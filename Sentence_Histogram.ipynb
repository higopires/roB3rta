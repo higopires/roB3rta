{
  "nbformat": 4,
  "nbformat_minor": 0,
  "metadata": {
    "colab": {
      "name": "Sentence Histogram.ipynb",
      "provenance": [],
      "authorship_tag": "ABX9TyPu5dO1kj26Dy0uglC5hpoh",
      "include_colab_link": true
    },
    "kernelspec": {
      "name": "python3",
      "display_name": "Python 3"
    },
    "language_info": {
      "name": "python"
    }
  },
  "cells": [
    {
      "cell_type": "markdown",
      "metadata": {
        "id": "view-in-github",
        "colab_type": "text"
      },
      "source": [
        "<a href=\"https://colab.research.google.com/github/higopires/roB3rta/blob/main/Sentence_Histogram.ipynb\" target=\"_parent\"><img src=\"https://colab.research.google.com/assets/colab-badge.svg\" alt=\"Open In Colab\"/></a>"
      ]
    },
    {
      "cell_type": "code",
      "source": [
        "!wget https://raw.githubusercontent.com/higopires/roB3rta/main/title-sentiment.csv"
      ],
      "metadata": {
        "id": "gyjxCjmn8wpu"
      },
      "execution_count": null,
      "outputs": []
    },
    {
      "cell_type": "code",
      "execution_count": null,
      "metadata": {
        "id": "_hpKdd9VGcPK"
      },
      "outputs": [],
      "source": [
        "import pandas as pd"
      ]
    },
    {
      "cell_type": "code",
      "source": [
        "df = pd.read_csv('/content/title-sentiment.csv')"
      ],
      "metadata": {
        "id": "ocdKdCLhGd0X"
      },
      "execution_count": null,
      "outputs": []
    },
    {
      "cell_type": "code",
      "source": [
        "df"
      ],
      "metadata": {
        "id": "aTsS6x7TGsTz"
      },
      "execution_count": null,
      "outputs": []
    },
    {
      "cell_type": "code",
      "source": [
        "df['word_count'] = df['headlines'].str.split().str.len()"
      ],
      "metadata": {
        "id": "3bEAPDv_GjwC"
      },
      "execution_count": null,
      "outputs": []
    },
    {
      "cell_type": "code",
      "source": [
        "df['headline_len'] = df['headlines'].str.len()"
      ],
      "metadata": {
        "id": "WCkpAU5LG8qE"
      },
      "execution_count": null,
      "outputs": []
    },
    {
      "cell_type": "code",
      "source": [
        "import matplotlib.pyplot as plt\n",
        "#import matplotlib.pyplot as plt\n",
        "#plt.rcParams[\"figure.figsize\"] = (12,9)\n",
        "\n",
        "df.hist(column='word_count')\n",
        "\n",
        "plt.xticks(range(0,30,5))\n",
        "plt.title('')\n",
        "plt.xlabel('Number of words in sentence')\n",
        "plt.ylabel('Number of sentences')"
      ],
      "metadata": {
        "id": "1AH5QBOjHP9q"
      },
      "execution_count": null,
      "outputs": []
    },
    {
      "cell_type": "code",
      "source": [
        "plt.rcParams[\"figure.figsize\"] = (9.6,4.8)\n",
        "\n",
        "df.hist(column='headline_len')\n",
        "\n",
        "plt.xticks(range(0,155,5))\n",
        "plt.title('')\n",
        "plt.xlabel('String length in sentence')\n",
        "plt.ylabel('Number of sentences')"
      ],
      "metadata": {
        "id": "JAH06kp8HWmP"
      },
      "execution_count": null,
      "outputs": []
    },
    {
      "cell_type": "code",
      "source": [
        "round(df.headline_len.mean())"
      ],
      "metadata": {
        "id": "__fydAEKLPth"
      },
      "execution_count": null,
      "outputs": []
    }
  ]
}