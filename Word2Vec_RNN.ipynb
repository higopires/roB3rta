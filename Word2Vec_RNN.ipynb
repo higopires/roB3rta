{
 "cells": [
  {
   "cell_type": "code",
   "execution_count": null,
   "metadata": {
    "execution": {
     "iopub.execute_input": "2021-12-08T19:05:05.920137Z",
     "iopub.status.busy": "2021-12-08T19:05:05.919724Z",
     "iopub.status.idle": "2021-12-08T19:05:10.459653Z",
     "shell.execute_reply": "2021-12-08T19:05:10.458778Z",
     "shell.execute_reply.started": "2021-12-08T19:05:05.920035Z"
    }
   },
   "outputs": [],
   "source": [
    "import os\n",
    "import numpy as np\n",
    "from numpy.random import seed\n",
    "seed(42)\n",
    "rng = np.random.RandomState(42)\n",
    "import tensorflow\n",
    "tensorflow.random.set_seed(42)\n",
    "os.environ['TF_DETERMINISTIC_OPS'] = '1'"
   ]
  },
  {
   "cell_type": "code",
   "execution_count": null,
   "metadata": {
    "execution": {
     "iopub.execute_input": "2021-12-08T19:05:10.461513Z",
     "iopub.status.busy": "2021-12-08T19:05:10.461181Z",
     "iopub.status.idle": "2021-12-08T19:09:28.624329Z",
     "shell.execute_reply": "2021-12-08T19:09:28.62338Z",
     "shell.execute_reply.started": "2021-12-08T19:05:10.461476Z"
    }
   },
   "outputs": [],
   "source": [
    "!wget https://s3.amazonaws.com/dl4j-distribution/GoogleNews-vectors-negative300.bin.gz"
   ]
  },
  {
   "cell_type": "code",
   "execution_count": null,
   "metadata": {
    "execution": {
     "iopub.execute_input": "2021-12-08T19:09:28.628112Z",
     "iopub.status.busy": "2021-12-08T19:09:28.626511Z",
     "iopub.status.idle": "2021-12-08T19:09:38.199375Z",
     "shell.execute_reply": "2021-12-08T19:09:38.198337Z",
     "shell.execute_reply.started": "2021-12-08T19:09:28.628067Z"
    }
   },
   "outputs": [],
   "source": [
    "!pip install keras -U"
   ]
  },
  {
   "cell_type": "code",
   "execution_count": null,
   "metadata": {
    "execution": {
     "iopub.execute_input": "2021-12-08T19:09:38.20286Z",
     "iopub.status.busy": "2021-12-08T19:09:38.202462Z",
     "iopub.status.idle": "2021-12-08T19:09:48.694145Z",
     "shell.execute_reply": "2021-12-08T19:09:48.693206Z",
     "shell.execute_reply.started": "2021-12-08T19:09:38.202818Z"
    }
   },
   "outputs": [],
   "source": [
    "!pip install tensorflow-addons tensorflow-determinism"
   ]
  },
  {
   "cell_type": "code",
   "execution_count": null,
   "metadata": {
    "execution": {
     "iopub.execute_input": "2021-12-08T19:09:48.696408Z",
     "iopub.status.busy": "2021-12-08T19:09:48.696037Z",
     "iopub.status.idle": "2021-12-08T19:09:49.830737Z",
     "shell.execute_reply": "2021-12-08T19:09:49.82993Z",
     "shell.execute_reply.started": "2021-12-08T19:09:48.696366Z"
    }
   },
   "outputs": [],
   "source": [
    "import pandas as pd\n",
    "from tensorflow.keras.preprocessing.text import Tokenizer\n",
    "from tensorflow.keras.preprocessing.sequence import pad_sequences\n",
    "from sklearn.preprocessing import LabelEncoder\n",
    "from gensim.models import KeyedVectors\n",
    "from tensorflow_addons.optimizers import AdamW\n",
    "from tensorflow.keras.layers import Layer, Embedding, Input, Dropout, Bidirectional, LSTM, Dense\n",
    "#from tensorflow.compat.v1.keras.layers import CuDNNLSTM\n",
    "from tensorflow.keras.models import Model\n",
    "from tensorflow.keras.utils import plot_model\n",
    "from sklearn.model_selection import StratifiedKFold\n",
    "from sklearn.utils.class_weight import compute_class_weight\n",
    "from sklearn.metrics import confusion_matrix, matthews_corrcoef, f1_score, precision_score, recall_score, balanced_accuracy_score\n",
    "from imblearn.metrics import specificity_score"
   ]
  },
  {
   "cell_type": "code",
   "execution_count": null,
   "metadata": {
    "execution": {
     "iopub.execute_input": "2021-12-08T19:09:49.83225Z",
     "iopub.status.busy": "2021-12-08T19:09:49.831898Z",
     "iopub.status.idle": "2021-12-08T19:09:49.872345Z",
     "shell.execute_reply": "2021-12-08T19:09:49.871476Z",
     "shell.execute_reply.started": "2021-12-08T19:09:49.832214Z"
    }
   },
   "outputs": [],
   "source": [
    "data = pd.read_csv('../input/financialphrasesemevalfiqa/title-sentiment.csv',encoding='latin-1')"
   ]
  },
  {
   "cell_type": "code",
   "execution_count": null,
   "metadata": {
    "execution": {
     "iopub.execute_input": "2021-12-08T19:09:49.874902Z",
     "iopub.status.busy": "2021-12-08T19:09:49.874536Z",
     "iopub.status.idle": "2021-12-08T19:09:49.886274Z",
     "shell.execute_reply": "2021-12-08T19:09:49.885343Z",
     "shell.execute_reply.started": "2021-12-08T19:09:49.874862Z"
    }
   },
   "outputs": [],
   "source": [
    "data.title = data.title.astype(str)\n",
    "data.sentiment = data.sentiment.astype(str)"
   ]
  },
  {
   "cell_type": "code",
   "execution_count": null,
   "metadata": {
    "execution": {
     "iopub.execute_input": "2021-12-08T19:09:49.890223Z",
     "iopub.status.busy": "2021-12-08T19:09:49.88963Z",
     "iopub.status.idle": "2021-12-08T19:09:49.984387Z",
     "shell.execute_reply": "2021-12-08T19:09:49.983109Z",
     "shell.execute_reply.started": "2021-12-08T19:09:49.890187Z"
    }
   },
   "outputs": [],
   "source": [
    "data['title'] = data['title'].str.replace(r'[^\\w\\s]+', '')\n",
    "data['title'] = data['title'].str.replace('\\s+', ' ', regex=True)"
   ]
  },
  {
   "cell_type": "code",
   "execution_count": null,
   "metadata": {
    "execution": {
     "iopub.execute_input": "2021-12-08T19:09:49.986534Z",
     "iopub.status.busy": "2021-12-08T19:09:49.986189Z",
     "iopub.status.idle": "2021-12-08T19:09:49.99035Z",
     "shell.execute_reply": "2021-12-08T19:09:49.98948Z",
     "shell.execute_reply.started": "2021-12-08T19:09:49.9865Z"
    }
   },
   "outputs": [],
   "source": [
    "X = data['title'].to_numpy()"
   ]
  },
  {
   "cell_type": "code",
   "execution_count": null,
   "metadata": {
    "execution": {
     "iopub.execute_input": "2021-12-08T19:09:49.992396Z",
     "iopub.status.busy": "2021-12-08T19:09:49.991794Z",
     "iopub.status.idle": "2021-12-08T19:09:49.999287Z",
     "shell.execute_reply": "2021-12-08T19:09:49.998527Z",
     "shell.execute_reply.started": "2021-12-08T19:09:49.992356Z"
    }
   },
   "outputs": [],
   "source": [
    "MAX_NB_WORDS = 12697\n",
    "MAX_SEQUENCE_LENGTH = 225"
   ]
  },
  {
   "cell_type": "code",
   "execution_count": null,
   "metadata": {
    "execution": {
     "iopub.execute_input": "2021-12-08T19:09:50.000941Z",
     "iopub.status.busy": "2021-12-08T19:09:50.000341Z",
     "iopub.status.idle": "2021-12-08T19:09:50.319766Z",
     "shell.execute_reply": "2021-12-08T19:09:50.318966Z",
     "shell.execute_reply.started": "2021-12-08T19:09:50.000884Z"
    }
   },
   "outputs": [],
   "source": [
    "tokenizer = Tokenizer(num_words=MAX_NB_WORDS,split=' ')\n",
    "tokenizer.fit_on_texts(X)"
   ]
  },
  {
   "cell_type": "code",
   "execution_count": null,
   "metadata": {
    "execution": {
     "iopub.execute_input": "2021-12-08T19:09:50.32265Z",
     "iopub.status.busy": "2021-12-08T19:09:50.321985Z",
     "iopub.status.idle": "2021-12-08T19:09:50.478777Z",
     "shell.execute_reply": "2021-12-08T19:09:50.477987Z",
     "shell.execute_reply.started": "2021-12-08T19:09:50.322607Z"
    }
   },
   "outputs": [],
   "source": [
    "X = tokenizer.texts_to_sequences(X)\n",
    "X = pad_sequences(X, maxlen=MAX_SEQUENCE_LENGTH)"
   ]
  },
  {
   "cell_type": "code",
   "execution_count": null,
   "metadata": {
    "execution": {
     "iopub.execute_input": "2021-12-08T19:09:50.481856Z",
     "iopub.status.busy": "2021-12-08T19:09:50.481594Z",
     "iopub.status.idle": "2021-12-08T19:09:50.487748Z",
     "shell.execute_reply": "2021-12-08T19:09:50.486794Z",
     "shell.execute_reply.started": "2021-12-08T19:09:50.48183Z"
    }
   },
   "outputs": [],
   "source": [
    "encoder = LabelEncoder()\n",
    "Y = encoder.fit_transform(data['sentiment'])"
   ]
  },
  {
   "cell_type": "code",
   "execution_count": null,
   "metadata": {
    "execution": {
     "iopub.execute_input": "2021-12-08T19:09:50.489526Z",
     "iopub.status.busy": "2021-12-08T19:09:50.489002Z",
     "iopub.status.idle": "2021-12-08T19:09:50.501635Z",
     "shell.execute_reply": "2021-12-08T19:09:50.500901Z",
     "shell.execute_reply.started": "2021-12-08T19:09:50.489485Z"
    }
   },
   "outputs": [],
   "source": [
    "encoder.classes_"
   ]
  },
  {
   "cell_type": "code",
   "execution_count": null,
   "metadata": {
    "execution": {
     "iopub.execute_input": "2021-12-08T19:09:50.505092Z",
     "iopub.status.busy": "2021-12-08T19:09:50.504747Z",
     "iopub.status.idle": "2021-12-08T19:09:50.510965Z",
     "shell.execute_reply": "2021-12-08T19:09:50.50997Z",
     "shell.execute_reply.started": "2021-12-08T19:09:50.505057Z"
    }
   },
   "outputs": [],
   "source": [
    "vocab_size = len(tokenizer.word_index) + 1\n",
    "print (vocab_size)"
   ]
  },
  {
   "cell_type": "code",
   "execution_count": null,
   "metadata": {
    "execution": {
     "iopub.execute_input": "2021-12-08T19:09:50.512993Z",
     "iopub.status.busy": "2021-12-08T19:09:50.512346Z",
     "iopub.status.idle": "2021-12-08T19:10:57.926877Z",
     "shell.execute_reply": "2021-12-08T19:10:57.925999Z",
     "shell.execute_reply.started": "2021-12-08T19:09:50.512952Z"
    }
   },
   "outputs": [],
   "source": [
    "embeddings_wv = KeyedVectors.load_word2vec_format(\"./GoogleNews-vectors-negative300.bin.gz\", binary=True)\n",
    "embeddings_wv.init_sims(replace=True)"
   ]
  },
  {
   "cell_type": "code",
   "execution_count": null,
   "metadata": {
    "execution": {
     "iopub.execute_input": "2021-12-08T19:10:57.928546Z",
     "iopub.status.busy": "2021-12-08T19:10:57.928226Z",
     "iopub.status.idle": "2021-12-08T19:10:57.934431Z",
     "shell.execute_reply": "2021-12-08T19:10:57.932954Z",
     "shell.execute_reply.started": "2021-12-08T19:10:57.928512Z"
    }
   },
   "outputs": [],
   "source": [
    "embedding_matrix = np.zeros((vocab_size, 300))"
   ]
  },
  {
   "cell_type": "code",
   "execution_count": null,
   "metadata": {
    "execution": {
     "iopub.execute_input": "2021-12-08T19:10:57.93646Z",
     "iopub.status.busy": "2021-12-08T19:10:57.935774Z",
     "iopub.status.idle": "2021-12-08T19:10:58.047917Z",
     "shell.execute_reply": "2021-12-08T19:10:58.047056Z",
     "shell.execute_reply.started": "2021-12-08T19:10:57.936418Z"
    }
   },
   "outputs": [],
   "source": [
    "for word, i in tokenizer.word_index.items():\n",
    "\ttry:\n",
    "\t\tembedding_vector = embeddings_wv[word]\n",
    "\t\tif embedding_vector is not None:\n",
    "\t\t\tembedding_matrix[i] = embedding_vector\n",
    "\texcept:\n",
    "\t\tpass"
   ]
  },
  {
   "cell_type": "code",
   "execution_count": null,
   "metadata": {
    "execution": {
     "iopub.execute_input": "2021-12-08T19:10:58.049704Z",
     "iopub.status.busy": "2021-12-08T19:10:58.049192Z",
     "iopub.status.idle": "2021-12-08T19:10:58.057363Z",
     "shell.execute_reply": "2021-12-08T19:10:58.056228Z",
     "shell.execute_reply.started": "2021-12-08T19:10:58.049665Z"
    }
   },
   "outputs": [],
   "source": [
    "embedding_matrix"
   ]
  },
  {
   "cell_type": "code",
   "execution_count": null,
   "metadata": {
    "execution": {
     "iopub.execute_input": "2021-12-08T19:10:58.05951Z",
     "iopub.status.busy": "2021-12-08T19:10:58.058832Z",
     "iopub.status.idle": "2021-12-08T19:10:58.080418Z",
     "shell.execute_reply": "2021-12-08T19:10:58.07967Z",
     "shell.execute_reply.started": "2021-12-08T19:10:58.059466Z"
    }
   },
   "outputs": [],
   "source": [
    "Embed_Layer = Embedding(vocab_size, 300, weights=[embedding_matrix], input_length=(MAX_SEQUENCE_LENGTH,), trainable=False)"
   ]
  },
  {
   "cell_type": "code",
   "execution_count": null,
   "metadata": {
    "execution": {
     "iopub.execute_input": "2021-12-08T19:10:58.081987Z",
     "iopub.status.busy": "2021-12-08T19:10:58.081648Z",
     "iopub.status.idle": "2021-12-08T19:10:58.087733Z",
     "shell.execute_reply": "2021-12-08T19:10:58.086771Z",
     "shell.execute_reply.started": "2021-12-08T19:10:58.08195Z"
    }
   },
   "outputs": [],
   "source": [
    "custom_adam = AdamW(weight_decay=0.0,learning_rate=1e-5, epsilon=1e-8)"
   ]
  },
  {
   "cell_type": "markdown",
   "metadata": {},
   "source": [
    "Definições para uso do mecanismo de Atenção nas RNNs"
   ]
  },
  {
   "cell_type": "code",
   "execution_count": null,
   "metadata": {
    "execution": {
     "iopub.execute_input": "2021-12-08T19:10:58.089944Z",
     "iopub.status.busy": "2021-12-08T19:10:58.089382Z",
     "iopub.status.idle": "2021-12-08T19:10:58.156861Z",
     "shell.execute_reply": "2021-12-08T19:10:58.155998Z",
     "shell.execute_reply.started": "2021-12-08T19:10:58.089729Z"
    }
   },
   "outputs": [],
   "source": [
    "import tensorflow.keras.backend as K\n",
    "from tensorflow.keras import regularizers, constraints, initializers\n",
    "\n",
    "def dot_product(x, kernel):\n",
    "    \"\"\"\n",
    "    Wrapper for dot product operation, in order to be compatible with both\n",
    "    Theano and Tensorflow\n",
    "    Args:\n",
    "        x (): input\n",
    "        kernel (): weights\n",
    "    Returns:\n",
    "    \"\"\"\n",
    "    if K.backend() == 'tensorflow':\n",
    "        return K.squeeze(K.dot(x, K.expand_dims(kernel)), axis=-1)\n",
    "    else:\n",
    "        return K.dot(x, kernel)\n",
    "\n",
    "\n",
    "class AttentionWithContext(Layer):\n",
    "    \"\"\"\n",
    "    Attention operation, with a context/query vector, for temporal data.\n",
    "    Supports Masking.\n",
    "    Follows the work of Yang et al. [https://www.cc.gatech.edu/~dyang888/docs/naacl16.pdf]\n",
    "    \"Hierarchical Attention Networks for Document Classification\"\n",
    "    by using a context vector to assist the attention\n",
    "    # Input shape\n",
    "        3D tensor with shape: `(samples, steps, features)`.\n",
    "    # Output shape\n",
    "        2D tensor with shape: `(samples, features)`.\n",
    "    How to use:\n",
    "    Just put it on top of an RNN Layer (GRU/LSTM/SimpleRNN) with return_sequences=True.\n",
    "    The dimensions are inferred based on the output shape of the RNN.\n",
    "    Note: The layer has been tested with Keras 2.0.6\n",
    "    Example:\n",
    "        model.add(LSTM(64, return_sequences=True))\n",
    "        model.add(AttentionWithContext())\n",
    "        # next add a Dense layer (for classification/regression) or whatever...\n",
    "    \"\"\"\n",
    "\n",
    "    def __init__(self,\n",
    "                 W_regularizer=None, u_regularizer=None, b_regularizer=None,\n",
    "                 W_constraint=None, u_constraint=None, b_constraint=None,\n",
    "                 bias=True, **kwargs):\n",
    "\n",
    "        self.supports_masking = True\n",
    "        self.init = initializers.get('glorot_uniform')\n",
    "\n",
    "        self.W_regularizer = regularizers.get(W_regularizer)\n",
    "        self.u_regularizer = regularizers.get(u_regularizer)\n",
    "        self.b_regularizer = regularizers.get(b_regularizer)\n",
    "\n",
    "        self.W_constraint = constraints.get(W_constraint)\n",
    "        self.u_constraint = constraints.get(u_constraint)\n",
    "        self.b_constraint = constraints.get(b_constraint)\n",
    "\n",
    "        self.bias = bias\n",
    "        super(AttentionWithContext, self).__init__(**kwargs)\n",
    "\n",
    "    def build(self, input_shape):\n",
    "        assert len(input_shape) == 3\n",
    "\n",
    "        self.W = self.add_weight(shape=(input_shape[-1], input_shape[-1],),\n",
    "                                 initializer=self.init,\n",
    "                                 name='{}_W'.format(self.name),\n",
    "                                 regularizer=self.W_regularizer,\n",
    "                                 constraint=self.W_constraint)\n",
    "        if self.bias:\n",
    "            self.b = self.add_weight(shape=(input_shape[-1],),\n",
    "                                     initializer='zero',\n",
    "                                     name='{}_b'.format(self.name),\n",
    "                                     regularizer=self.b_regularizer,\n",
    "                                     constraint=self.b_constraint)\n",
    "\n",
    "        self.u = self.add_weight(shape=(input_shape[-1],),\n",
    "                                 initializer=self.init,\n",
    "                                 name='{}_u'.format(self.name),\n",
    "                                 regularizer=self.u_regularizer,\n",
    "                                 constraint=self.u_constraint)\n",
    "\n",
    "        super(AttentionWithContext, self).build(input_shape)\n",
    "\n",
    "    def compute_mask(self, input, input_mask=None):\n",
    "        # do not pass the mask to the next layers\n",
    "        return None\n",
    "\n",
    "    def call(self, x, mask=None):\n",
    "        uit = dot_product(x, self.W)\n",
    "\n",
    "        if self.bias:\n",
    "            uit += self.b\n",
    "\n",
    "        uit = K.tanh(uit)\n",
    "        ait = dot_product(uit, self.u)\n",
    "\n",
    "        a = K.exp(ait)\n",
    "\n",
    "        # apply mask after the exp. will be re-normalized next\n",
    "        if mask is not None:\n",
    "            # Cast the mask to floatX to avoid float64 upcasting in theano\n",
    "            a *= K.cast(mask, K.floatx())\n",
    "\n",
    "        # in some cases especially in the early stages of training the sum may be almost zero\n",
    "        # and this results in NaN's. A workaround is to add a very small positive number ε to the sum.\n",
    "        # a /= K.cast(K.sum(a, axis=1, keepdims=True), K.floatx())\n",
    "        a /= K.cast(K.sum(a, axis=1, keepdims=True) + K.epsilon(), K.floatx())\n",
    "\n",
    "        a = K.expand_dims(a)\n",
    "        weighted_input = x * a\n",
    "        return K.sum(weighted_input, axis=1)\n",
    "\n",
    "    def compute_output_shape(self, input_shape):\n",
    "        return input_shape[0], input_shape[-1]"
   ]
  },
  {
   "cell_type": "markdown",
   "metadata": {},
   "source": [
    "Definição da RNN (pode ser alterada para definir outras arquiteturas, como LSTMs bidirecionais, GRUs, Convnets, etc)"
   ]
  },
  {
   "cell_type": "code",
   "execution_count": null,
   "metadata": {
    "execution": {
     "iopub.execute_input": "2021-12-08T19:10:58.159986Z",
     "iopub.status.busy": "2021-12-08T19:10:58.159694Z",
     "iopub.status.idle": "2021-12-08T19:10:58.170518Z",
     "shell.execute_reply": "2021-12-08T19:10:58.169647Z",
     "shell.execute_reply.started": "2021-12-08T19:10:58.159948Z"
    }
   },
   "outputs": [],
   "source": [
    "def bilstm_model(input_shape):\n",
    "  X_indices = Input(input_shape)\n",
    "  embeddings = Embed_Layer(X_indices)\n",
    "  #X = Dropout(0.5)(embeddings)\n",
    "  #X = Bidirectional(LSTM(100, return_sequences=True))(embeddings)\n",
    "  X = Bidirectional(LSTM(100, return_sequences=False))(embeddings) #descomentar se a camada de Attention não for usada\n",
    "  #X = AttentionWithContext()(X)\n",
    "  X = Dense(3, activation='softmax')(X)\n",
    "  model = Model(inputs=X_indices, outputs=X)\n",
    "  \n",
    "  model.summary()\n",
    "  plot_model(model, to_file='model_plot.png', show_shapes=True, show_layer_names=True)\n",
    "    \n",
    "  return model"
   ]
  },
  {
   "cell_type": "code",
   "execution_count": null,
   "metadata": {
    "execution": {
     "iopub.execute_input": "2021-12-08T19:10:58.172787Z",
     "iopub.status.busy": "2021-12-08T19:10:58.172383Z",
     "iopub.status.idle": "2021-12-08T19:18:14.250619Z",
     "shell.execute_reply": "2021-12-08T19:18:14.249682Z",
     "shell.execute_reply.started": "2021-12-08T19:10:58.172708Z"
    }
   },
   "outputs": [],
   "source": [
    "bilstm_mcc = []\n",
    "bilstm_f1 = []\n",
    "bilstm_precision = []\n",
    "bilstm_recall = []\n",
    "bilstm_bacc = []\n",
    "bilstm_spec = []\n",
    "\n",
    "fold = 1\n",
    "\n",
    "skf = StratifiedKFold(n_splits=10, random_state=rng, shuffle=True)\n",
    "for train_index, test_index in skf.split(X, Y):\n",
    "    model_bilstm = bilstm_model((MAX_SEQUENCE_LENGTH,))\n",
    "    model_bilstm.compile(optimizer=custom_adam,loss='sparse_categorical_crossentropy',metrics=['acc'])\n",
    "\n",
    "    X_train, X_test = X[train_index], X[test_index]\n",
    "    y_train, y_test = Y[train_index], Y[test_index]\n",
    "    \n",
    "    class_weights = compute_class_weight('balanced', np.unique(y_train), y_train)\n",
    "    weight = {i : class_weights[i] for i in range(3)}\n",
    "    \n",
    "    model_bilstm.fit(X_train,y_train,epochs=10,verbose=1,batch_size=32, class_weight=weight)\n",
    "\n",
    "    y_pred = model_bilstm.predict(X_test, batch_size=32)\n",
    "    preds = np.argmax(y_pred, axis = 1)\n",
    "    \n",
    "    cnf_mtx = confusion_matrix(y_test, preds)\n",
    "    print(\"Fold #%i Confusion Matrix:\" % fold)\n",
    "    print(cnf_mtx)\n",
    "    \n",
    "    bilstm_mcc.append(matthews_corrcoef(y_test, preds))\n",
    "    bilstm_f1.append(f1_score(y_test, preds, average='weighted'))\n",
    "    bilstm_precision.append(precision_score(y_test, preds, average='weighted'))\n",
    "    bilstm_recall.append(recall_score(y_test, preds, average='weighted'))\n",
    "    bilstm_bacc.append(balanced_accuracy_score(y_test, preds))\n",
    "    bilstm_spec.append(specificity_score(y_test, preds, average='weighted'))\n",
    "    fold += 1"
   ]
  },
  {
   "cell_type": "code",
   "execution_count": null,
   "metadata": {
    "execution": {
     "iopub.execute_input": "2021-12-08T19:18:14.252548Z",
     "iopub.status.busy": "2021-12-08T19:18:14.252193Z",
     "iopub.status.idle": "2021-12-08T19:18:14.259222Z",
     "shell.execute_reply": "2021-12-08T19:18:14.257412Z",
     "shell.execute_reply.started": "2021-12-08T19:18:14.252507Z"
    }
   },
   "outputs": [],
   "source": [
    "print(f\"Mean-MCC: {sum(bilstm_mcc) / len(bilstm_mcc):.4f}\")"
   ]
  },
  {
   "cell_type": "code",
   "execution_count": null,
   "metadata": {
    "execution": {
     "iopub.execute_input": "2021-12-08T19:18:14.261392Z",
     "iopub.status.busy": "2021-12-08T19:18:14.260694Z",
     "iopub.status.idle": "2021-12-08T19:18:14.270303Z",
     "shell.execute_reply": "2021-12-08T19:18:14.269064Z",
     "shell.execute_reply.started": "2021-12-08T19:18:14.261356Z"
    }
   },
   "outputs": [],
   "source": [
    "print(f\"Mean-F1: {sum(bilstm_f1) / len(bilstm_f1):.4f}\")"
   ]
  },
  {
   "cell_type": "code",
   "execution_count": null,
   "metadata": {
    "execution": {
     "iopub.execute_input": "2021-12-08T19:18:14.272209Z",
     "iopub.status.busy": "2021-12-08T19:18:14.271792Z",
     "iopub.status.idle": "2021-12-08T19:18:14.279564Z",
     "shell.execute_reply": "2021-12-08T19:18:14.278403Z",
     "shell.execute_reply.started": "2021-12-08T19:18:14.272172Z"
    }
   },
   "outputs": [],
   "source": [
    "print(f\"Mean-Precision: {sum(bilstm_precision) / len(bilstm_precision):.4f}\")"
   ]
  },
  {
   "cell_type": "code",
   "execution_count": null,
   "metadata": {
    "execution": {
     "iopub.execute_input": "2021-12-08T19:18:14.281386Z",
     "iopub.status.busy": "2021-12-08T19:18:14.280921Z",
     "iopub.status.idle": "2021-12-08T19:18:14.288992Z",
     "shell.execute_reply": "2021-12-08T19:18:14.287701Z",
     "shell.execute_reply.started": "2021-12-08T19:18:14.281351Z"
    }
   },
   "outputs": [],
   "source": [
    "print(f\"Mean-Recall: {sum(bilstm_recall) / len(bilstm_recall):.4f}\")"
   ]
  },
  {
   "cell_type": "code",
   "execution_count": null,
   "metadata": {
    "execution": {
     "iopub.execute_input": "2021-12-08T19:18:14.29076Z",
     "iopub.status.busy": "2021-12-08T19:18:14.290272Z",
     "iopub.status.idle": "2021-12-08T19:18:14.297556Z",
     "shell.execute_reply": "2021-12-08T19:18:14.296565Z",
     "shell.execute_reply.started": "2021-12-08T19:18:14.290725Z"
    }
   },
   "outputs": [],
   "source": [
    "print(f\"Mean-BACC: {sum(bilstm_bacc) / len(bilstm_bacc):.4f}\")"
   ]
  },
  {
   "cell_type": "code",
   "execution_count": null,
   "metadata": {
    "execution": {
     "iopub.execute_input": "2021-12-08T19:18:14.299563Z",
     "iopub.status.busy": "2021-12-08T19:18:14.298984Z",
     "iopub.status.idle": "2021-12-08T19:18:14.30667Z",
     "shell.execute_reply": "2021-12-08T19:18:14.305485Z",
     "shell.execute_reply.started": "2021-12-08T19:18:14.299527Z"
    }
   },
   "outputs": [],
   "source": [
    "print(f\"Mean-Specificity: {sum(bilstm_spec) / len(bilstm_spec):.4f}\")"
   ]
  },
  {
   "cell_type": "code",
   "execution_count": null,
   "metadata": {
    "execution": {
     "iopub.execute_input": "2021-12-08T19:18:14.308622Z",
     "iopub.status.busy": "2021-12-08T19:18:14.308198Z",
     "iopub.status.idle": "2021-12-08T19:18:14.319047Z",
     "shell.execute_reply": "2021-12-08T19:18:14.318015Z",
     "shell.execute_reply.started": "2021-12-08T19:18:14.30858Z"
    }
   },
   "outputs": [],
   "source": [
    "data.title"
   ]
  }
 ],
 "metadata": {
  "kernelspec": {
   "display_name": "Python 3",
   "language": "python",
   "name": "python3"
  },
  "language_info": {
   "codemirror_mode": {
    "name": "ipython",
    "version": 3
   },
   "file_extension": ".py",
   "mimetype": "text/x-python",
   "name": "python",
   "nbconvert_exporter": "python",
   "pygments_lexer": "ipython3",
   "version": "3.6.12"
  }
 },
 "nbformat": 4,
 "nbformat_minor": 4
}
