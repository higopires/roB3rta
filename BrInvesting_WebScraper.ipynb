{
  "nbformat": 4,
  "nbformat_minor": 0,
  "metadata": {
    "colab": {
      "name": "Untitled12.ipynb",
      "provenance": []
    },
    "kernelspec": {
      "name": "python3",
      "display_name": "Python 3"
    },
    "language_info": {
      "name": "python"
    }
  },
  "cells": [
    {
      "cell_type": "code",
      "execution_count": null,
      "metadata": {
        "id": "NYAWtVpeET4-"
      },
      "outputs": [],
      "source": [
        "!pip install bs4 lxml requests"
      ]
    },
    {
      "cell_type": "code",
      "source": [
        "from bs4 import BeautifulSoup\n",
        "import requests"
      ],
      "metadata": {
        "id": "nkTMiMfLEbfG"
      },
      "execution_count": null,
      "outputs": []
    },
    {
      "cell_type": "code",
      "source": [
        "root = 'https://br.investing.com'\n",
        "website = f'{root}/news/cryptocurrency-news'"
      ],
      "metadata": {
        "id": "Z6dQr3tEEgS7"
      },
      "execution_count": null,
      "outputs": []
    },
    {
      "cell_type": "code",
      "source": [
        "result = requests.get(website, headers={\"User-Agent\": \"Mozilla/5.0\"})"
      ],
      "metadata": {
        "id": "Lvqr6wauE_3R"
      },
      "execution_count": null,
      "outputs": []
    },
    {
      "cell_type": "code",
      "source": [
        "content = result.text"
      ],
      "metadata": {
        "id": "HCtlSVrdKpOs"
      },
      "execution_count": null,
      "outputs": []
    },
    {
      "cell_type": "code",
      "source": [
        "soup = BeautifulSoup(content, 'lxml')"
      ],
      "metadata": {
        "id": "GFJjXzEiKw_u"
      },
      "execution_count": null,
      "outputs": []
    },
    {
      "cell_type": "code",
      "source": [
        "# print(soup.prettify())"
      ],
      "metadata": {
        "id": "jfWsRxtbK8Oq"
      },
      "execution_count": null,
      "outputs": []
    },
    {
      "cell_type": "code",
      "source": [
        "box = soup.find('section', id='leftColumn')"
      ],
      "metadata": {
        "id": "afl1zOaDjzOG"
      },
      "execution_count": null,
      "outputs": []
    },
    {
      "cell_type": "code",
      "source": [
        "headlines = box.find_all('a', attrs={'class': 'title'})\n",
        "for tag in headlines:\n",
        "  print(tag.text.strip())"
      ],
      "metadata": {
        "id": "U0vgRNPeod3b"
      },
      "execution_count": null,
      "outputs": []
    }
  ]
}