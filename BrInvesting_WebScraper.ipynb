{
  "nbformat": 4,
  "nbformat_minor": 0,
  "metadata": {
    "colab": {
      "name": "Untitled13.ipynb",
      "provenance": []
    },
    "kernelspec": {
      "name": "python3",
      "display_name": "Python 3"
    },
    "language_info": {
      "name": "python"
    }
  },
  "cells": [
    {
      "cell_type": "code",
      "execution_count": null,
      "metadata": {
        "id": "05nakuxr4yd0"
      },
      "outputs": [],
      "source": [
        "#!pip install bs4 lxml requests"
      ]
    },
    {
      "cell_type": "code",
      "source": [
        "from bs4 import BeautifulSoup\n",
        "import requests"
      ],
      "metadata": {
        "id": "gYGPg1Od42wF"
      },
      "execution_count": null,
      "outputs": []
    },
    {
      "cell_type": "code",
      "source": [
        "for i in range(1,100):\n",
        "  root = 'https://br.investing.com'\n",
        "  website = f'{root}/news/economic-indicators/{i}'\n",
        "\n",
        "  result = requests.get(website, headers={\"User-Agent\": \"Mozilla/5.0\"})\n",
        "  content = result.text\n",
        "  soup = BeautifulSoup(content, 'lxml')\n",
        "\n",
        "  box = soup.find('section', id='leftColumn')\n",
        "\n",
        "  headlines = box.find_all('a', attrs={'class': 'title'})\n",
        "\n",
        "  for tag in headlines:\n",
        "    with open('headlines_economic-indicators.txt', 'a') as file:\n",
        "      file.write(tag.text.strip()+'\\n')"
      ],
      "metadata": {
        "id": "UqCe4e2n45GK"
      },
      "execution_count": null,
      "outputs": []
    }
  ]
}