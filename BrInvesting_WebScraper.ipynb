{
 "cells": [
  {
   "cell_type": "code",
   "execution_count": null,
   "metadata": {
    "id": "05nakuxr4yd0"
   },
   "outputs": [],
   "source": [
    "#!pip install bs4 lxml requests"
   ]
  },
  {
   "cell_type": "code",
   "execution_count": null,
   "metadata": {
    "id": "gYGPg1Od42wF"
   },
   "outputs": [],
   "source": [
    "from bs4 import BeautifulSoup\n",
    "import requests"
   ]
  },
  {
   "cell_type": "markdown",
   "metadata": {},
   "source": [
    "A variável ```website``` está setada para efetuar a tarefa de webscraping nas páginas de 1 a 100 da URL ```https://br.investing.com/news/economic-indicators/```. Para o scraping em outros assuntos do site, o valor da variável é trocado:"
   ]
  },
  {
   "cell_type": "code",
   "execution_count": null,
   "metadata": {
    "id": "UqCe4e2n45GK"
   },
   "outputs": [],
   "source": [
    "for i in range(1,100):\n",
    "  root = 'https://br.investing.com'\n",
    "  website = f'{root}/news/economic-indicators/{i}'\n",
    "\n",
    "  result = requests.get(website, headers={\"User-Agent\": \"Mozilla/5.0\"})\n",
    "  content = result.text\n",
    "  soup = BeautifulSoup(content, 'lxml')\n",
    "\n",
    "  box = soup.find('section', id='leftColumn')\n",
    "\n",
    "  headlines = box.find_all('a', attrs={'class': 'title'})\n",
    "\n",
    "  for tag in headlines:\n",
    "    with open('headlines_economic-indicators.txt', 'a') as file:\n",
    "      file.write(tag.text.strip()+'\\n')"
   ]
  }
 ],
 "metadata": {
  "colab": {
   "name": "Untitled13.ipynb",
   "provenance": []
  },
  "kernelspec": {
   "display_name": "Python 3",
   "language": "python",
   "name": "python3"
  },
  "language_info": {
   "codemirror_mode": {
    "name": "ipython",
    "version": 3
   },
   "file_extension": ".py",
   "mimetype": "text/x-python",
   "name": "python",
   "nbconvert_exporter": "python",
   "pygments_lexer": "ipython3",
   "version": "3.6.12"
  }
 },
 "nbformat": 4,
 "nbformat_minor": 1
}
