{
  "nbformat": 4,
  "nbformat_minor": 0,
  "metadata": {
    "colab": {
      "name": "Qualificação Geração Dataset.ipynb",
      "provenance": [],
      "collapsed_sections": []
    },
    "kernelspec": {
      "name": "python3",
      "display_name": "Python 3"
    },
    "language_info": {
      "name": "python"
    }
  },
  "cells": [
    {
      "cell_type": "code",
      "source": [
        "import pandas as pd\n",
        "\n",
        "df = pd.read_csv('/content/datasetTeste_Final.csv')"
      ],
      "metadata": {
        "id": "Wfuf7N6QjlgG"
      },
      "execution_count": null,
      "outputs": []
    },
    {
      "cell_type": "code",
      "source": [
        "from re import sub\n",
        "import nltk\n",
        "nltk.download('punkt')\n",
        "\n",
        "def preprocess(text):\n",
        "    ''' Pre process and convert texts to a list of words \n",
        "    method inspired by method from eliorc github repo: https://github.com/eliorc/Medium/blob/master/MaLSTM.ipynb'''\n",
        "    #text = remove_polish_letters(text)\n",
        "    text = str(text)\n",
        "    text = text.lower()\n",
        "\n",
        "    # Clean the text\n",
        "    text = sub(r\"[,!?.\\/'+]\", \" \", text)\n",
        "    text = sub(r\"\\+\", \" mais \", text)\n",
        "    text = sub(r\",\", \" \", text)\n",
        "    text = sub(r\"\\.\", \" \", text)\n",
        "    text = sub(r\"!\", \" ! \", text)\n",
        "    text = sub(r\"\\?\", \" ? \", text)\n",
        "    text = sub(r\"'\", \" \", text)\n",
        "    text = sub(r\":\", \" : \", text)\n",
        "    text = sub(r\"\\s{2,}\", \" \", text)\n",
        "\n",
        "    text = nltk.word_tokenize(text, language='portuguese')\n",
        "\n",
        "    #text = text.split()\n",
        "\n",
        "    return text"
      ],
      "metadata": {
        "id": "uCdUHwBkrHXy"
      },
      "execution_count": null,
      "outputs": []
    },
    {
      "cell_type": "code",
      "source": [
        "df['cleaned_headlines'] = df['headlines'].apply(lambda x: preprocess(x))"
      ],
      "metadata": {
        "id": "KQ7K5dWrrSzI"
      },
      "execution_count": null,
      "outputs": []
    },
    {
      "cell_type": "code",
      "source": [
        "df"
      ],
      "metadata": {
        "id": "ABvi7Ih8r9qY"
      },
      "execution_count": null,
      "outputs": []
    },
    {
      "cell_type": "code",
      "source": [
        "!wget https://raw.githubusercontent.com/towardsNLP/IMDB-Semantic-Sentiment-Analysis/main/Word2Vec/src/w2v_utils.py"
      ],
      "metadata": {
        "id": "dWPVgiPmkcT0"
      },
      "execution_count": null,
      "outputs": []
    },
    {
      "cell_type": "code",
      "source": [
        "!pip install -U gensim"
      ],
      "metadata": {
        "id": "zjh1WaTzlbkT"
      },
      "execution_count": null,
      "outputs": []
    },
    {
      "cell_type": "code",
      "source": [
        "from w2v_utils import w2v_trainer\n",
        "\n",
        "keyed_vectors, keyed_vocab = w2v_trainer(df['cleaned_headlines'])"
      ],
      "metadata": {
        "id": "jyobHyuwkJaJ"
      },
      "execution_count": null,
      "outputs": []
    },
    {
      "cell_type": "code",
      "source": [
        "keyed_vectors.most_similar('acusado',topn=50)"
      ],
      "metadata": {
        "id": "XrDoQuCKn6VI"
      },
      "execution_count": null,
      "outputs": []
    },
    {
      "cell_type": "code",
      "source": [
        "# To make sure that all `positive_concepts` are in the keyed word2vec vocabulary\n",
        "positive_concepts = ['capaz' , 'abundância' , 'abundante' , 'aclamado' , 'realizar' , 'realizado' , 'realiza' , 'realizando' ,\n",
        "                     'realização' , 'realizações' , 'conquistar' , 'atingido' , 'conquistas' , 'alcança' , 'alcançar' ,\n",
        "                     'adequadamente' , 'avanço' , 'avanços' , 'avançando' , 'vantagem' , 'favorecido' , 'vantajoso' ,\n",
        "                     'vantajosamente' , 'vantagens' , 'aliança' , 'alianças' , 'assegurar' , 'assegurado' , 'assegura' ,\n",
        "                     'assegurando' , 'atingir' , 'alcançou' , 'atingindo' , 'atinge' , 'atraente' , 'atratividade' , 'bela' ,\n",
        "                     'belas' , 'benéfico' , 'beneficamente' , 'benefício' , 'beneficiado' , 'beneficiando' , 'melhor' ,\n",
        "                     'melhor' , 'reforçado' , 'reforçando' , 'reforços' , 'estrondo' , 'crescendo' , 'impulso' , 'impulsionado' ,\n",
        "                     'brilhante' , 'caridoso' , 'colaborar' , 'colaborou' , 'colabora' , 'colaborando' , 'colaboração' ,\n",
        "                     'colaborações' , 'colaborativo' , 'colaborador' , 'colaboradores' , 'elogio' , 'cortesia' , 'elogiado' ,\n",
        "                     'elogiando' , 'elogios' , 'conclusivo' , 'conclusivamente' , 'conducente' , 'confiante' , 'construtivo' ,\n",
        "                     'construtivamente' , 'cortês' , 'criativo' , 'criativamente' , 'criatividade' , 'deleite' , 'deleitado' ,\n",
        "                     'delicioso' , 'deliciosamente' , 'deliciando' , 'delícias' , 'confiabilidade' , 'confiável' , 'desejável' ,\n",
        "                     'desejado' , 'apesar' , 'destinado' , 'diligente' , 'diligentemente' , 'distinção' , 'distinções' ,\n",
        "                     'distintivo' , 'distintamente' , 'distintividade' , 'sonhe' , 'mais fácil' , 'facilmente' , 'fácil' ,\n",
        "                     'eficaz' , 'eficiências' , 'eficiência' , 'eficiente' , 'eficientemente' , 'empoderar' , 'empoderado' ,\n",
        "                     'empoderamento' , 'habilita' , 'habilitar' , 'ativado' , 'permite' , 'possibilitando' , 'encorajado' ,\n",
        "                     'encorajamento' , 'encorajar' , 'encorajando' , 'realçar' , 'melhorada' , 'aprimoramento' , 'aprimoramentos' ,\n",
        "                     'aumenta' , 'aprimorando' , 'apreciar' , 'agradável' , 'agradavelmente' , 'gostei' , 'desfrutando' , 'gozo' ,\n",
        "                     'goza' , 'entusiasmo' , 'entusiasmado' , 'entusiasticamente' , 'excelência' , 'excelente' , 'excede' ,\n",
        "                     'excepcional' , 'excepcionalmente' , 'animado' , 'excitação' , 'emocionante' , 'exclusivo' , 'exclusivamente' ,\n",
        "                     'exclusividade' , 'exclusivos' , 'exemplar' , 'fantástico' , 'favorável' , 'favoravelmente' , 'favorecendo' ,\n",
        "                     'favorito' , 'favoritos' , 'amigáveis' , 'ganho' , 'ganhou' , 'ganhando' , 'ganhos' , 'boa' , 'ótimo' ,\n",
        "                     'maior' , 'muito' , 'grandeza' , 'feliz' , 'alegremente' , 'felicidade' , 'honra' , 'honroso' , 'honrado' ,\n",
        "                     'honrando' , 'honras' , 'ideal' , 'impressionar' , 'impressionado' , 'impressiona' , 'impressionando' ,\n",
        "                     'impressionante' , 'impressionantemente' , 'melhorar' , 'melhorado' , 'melhoria' , 'melhoramentos' ,\n",
        "                     'melhora' , 'melhorando' , 'incrível' , 'incrivelmente' , 'influente' , 'informativo' , 'ingenuidade' ,\n",
        "                     'inovar' , 'inovou' , 'inova' , 'inovando' , 'inovação' , 'inovações' , 'inovativa' , 'inovatividade' ,\n",
        "                     'inovador' , 'inovadores' , 'perspicaz' , 'inspiração' , 'inspirador' , 'integridade' , 'inventar' ,\n",
        "                     'inventado' , 'inventando' , 'invenção' , 'invenções' , 'inventivo' , 'inventividade' , 'inventor' ,\n",
        "                     'inventores' , 'liderança' , 'conduzindo' , 'fiel' , 'lucrativo' , 'meritório' , 'oportunidades' ,\n",
        "                     'oportunidade' , 'otimista' , 'outperform' , 'superou' , 'superando' , 'outperforms' , 'perfeito' ,\n",
        "                     'aperfeiçoado' , 'perfeitamente' , 'aperfeiçoa' , 'satisfeito' , 'prazer' , 'popular' , 'popularidade' ,\n",
        "                     'positivo' , 'positivamente' , 'preeminência' , 'preeminente' , 'premier' , 'pré-estreia' , 'prestígio' ,\n",
        "                     'prestigioso' , 'proativo' , 'proativamente' , 'proficiência' , 'proficiente' , 'proficientemente' ,\n",
        "                     'rentabilidade' , 'rentável' , 'lucrativamente' , 'progresso' , 'progrediu' , 'progride' , 'progredindo' ,\n",
        "                     'prosperou' , 'prosperando' , 'prosperidade' , 'próspero' , 'prospera' , 'rebote' , 'recuperou' , 'receptivo' ,\n",
        "                     'recuperar' , 'recuperando' , 'resolver' , 'revolucionar' , 'revolucionou' , 'revoluciona' , 'revolucionando' ,\n",
        "                     'recompensa' , 'recompensado' , 'recompensador' , 'recompensas' , 'satisfação' , 'satisfatoriamente' ,\n",
        "                     'satisfatório' , 'satisfaz' , 'satisfazer' , 'satisfazendo' , 'suave' , 'suavização' , 'suavemente' ,\n",
        "                     'suaviza' , 'resolve' , 'resolvendo' , 'espetacular' , 'espetacularmente' , 'estabilidade' , 'estabilização' ,\n",
        "                     'estabilizações' , 'estabilizar' , 'estabilizado' , 'estabiliza' , 'estabilizando' , 'estável' , 'fortalecer' ,\n",
        "                     'fortalecido' , 'fortalecimento' , 'fortalece' , 'forças' , 'forte' , 'mais forte' , 'suceder' , 'conseguiu' ,\n",
        "                     'sucedendo' , 'sucede' , 'sucesso' , 'sucessos' , 'bem sucedido' , 'com sucesso' , 'superior' , 'superado' ,\n",
        "                     'ultrapassa' , 'transparência' , 'tremendo' , 'tremendo' , 'incomparável' , 'inigualável' , 'insuperável' ,\n",
        "                     'retomada' , 'reviravoltas' , 'valioso' , 'versátil' , 'versatilidade' , 'vibração' , 'vibrante' , 'ganhar' ,\n",
        "                     'vencedora' , 'vencedores' , 'digno'] \n",
        "pos_concepts = [concept for concept in positive_concepts if concept in keyed_vocab]"
      ],
      "metadata": {
        "id": "_jVYTT5SoJN-"
      },
      "execution_count": null,
      "outputs": []
    },
    {
      "cell_type": "code",
      "source": [
        "negative_concepts = ['abandono' , 'abandonado' , 'abandonando' , 'abandona' , 'abdicado' , 'abdica' , 'abdicar' , 'abdicação' ,\n",
        "                     'abdicações' , 'aberrante' , 'aberração' , 'aberracional' , 'aberrações' , 'cumplicidade' , 'anormal' ,\n",
        "                     'anomalias' , 'anormalidade' , 'anormalmente' , 'abolir' , 'abolido' , 'abole' , 'abolição' , 'revogar' ,\n",
        "                     'anulado' , 'revoga' , 'revogando' , 'revogação' , 'revogações' , 'abrupto' , 'abruptamente' , 'aspereza' ,\n",
        "                     'ausência' , 'faltas' , 'absentismo' , 'abuso' , 'abusado' , 'abusos' , 'abusando' , 'abusivo' ,\n",
        "                     'abusivamente' , 'abusividade' , 'acidente' , 'acidental' , 'acidentalmente' , 'acidentes' , 'acusação' ,\n",
        "                     'acusações' , 'acusar' , 'acusado' , 'acusa' , 'acusando' , 'aquiescer' , 'aquiesceu' , 'consentimentos' ,\n",
        "                     'aquiescendo' , 'absolver' , 'absolvidos' , 'absolvição' , 'absolvições' , 'absolvido' , 'absolvendo' ,\n",
        "                     'adulterar' , 'adulterado' , 'adulterando' , 'adulteração' , 'adulterações' , 'adversarial' , 'adversários' ,\n",
        "                     'adversário' , 'desfavoraveis' , 'adversamente' , 'adversidades' , 'adversidade' , 'rescaldo' , 'rescaldos' ,\n",
        "                     'contra' , 'agravar' , 'agravado' , 'agrava' , 'agravante' , 'agravamento' , 'agravos' , 'alertado' , 'alerta' ,\n",
        "                     'alienar' , 'alienado' , 'alienante' , 'alienação' , 'alienações' , 'alegação' , 'alegações' , 'alegar' ,\n",
        "                     'suposto' , 'alegadamente' , 'alega' , 'alegando' , 'incomodar' , 'aborrecimento' , 'aborrecimentos' , 'irritado' ,\n",
        "                     'irritante' , 'irrita' , 'anular' , 'anulando' , 'anulação' , 'anulações' , 'anula' , 'anômalo' , 'anomalia' ,\n",
        "                     'anticoncorrencial' , 'antitruste' , 'discutir' , 'argumentou' , 'argumentando' , 'argumento' , 'argumentativo' ,\n",
        "                     'argumentos' , 'arrearage' , 'arrearages' , 'atrasos' , 'prender' , 'preso' , 'prisões' , 'artificialmente' ,\n",
        "                     'assalto' , 'assaltado' , 'assaltos' , 'asserções' , 'atrito' , 'aversamente' , 'backdating' , 'mau' , 'fiança' ,\n",
        "                     'resgate' , 'balk' , 'empacou' , 'falido' , 'falências' , 'falência' , 'falindo' , 'falidos' , 'proibições' ,\n",
        "                     'barrado' , 'barreira' , 'barreiras' , 'gargalo' , 'gargalos' , 'boicote' , 'boicotado' , 'boicotes' , 'violação' ,\n",
        "                     'violado' , 'violações' , 'violar' , 'quebrar' , 'quebra' , 'quebras' , 'demolir' , 'separação' , 'rompe' ,\n",
        "                     'suborno' , 'subornado' , 'subornos' , 'ponte' , 'quebrado' , 'fardo' , 'sobrecarregado' , 'sobrecarregar' ,\n",
        "                     'encargos' , 'oneroso' , 'queimado' , 'calamidades' , 'calamitoso' , 'calamidade' , 'cancelar' , 'cancelado' ,\n",
        "                     'cancelando' , 'cancelamento' , 'cancelamentos' , 'cancela' , 'descuidado' , 'descuidadamente' , 'descuido' ,\n",
        "                     'catástrofe' , 'catástrofes' , 'catastrófico' , 'catastroficamente' , 'cuidado' , 'cautelar' , 'advertido' ,\n",
        "                     'alertando' , 'cuidados' , 'cessar' , 'cessou' , 'cessa' , 'cessando' , 'censura' , 'censurado' , 'censuras' ,\n",
        "                     'censurar' , 'desafio' , 'desafiado' , 'desafios' , 'desafiador' , 'cargas' , 'contornar' , 'contornado' ,\n",
        "                     'contornando' , 'evasão' , 'desvios' , 'reivindicando' , 'reivindicações' , 'clawback' , 'fechadas' , 'fechar' ,\n",
        "                     'saldos' , 'fechamento' , 'fechamentos' , 'fecho' , 'coagir' , 'coagido' , 'coage' , 'coerção' , 'coercitivo' ,\n",
        "                     'colapso' , 'desabou' , 'colapsos' , 'colisão' , 'colisões' , 'conluio' , 'conivente' , 'colusões' , 'colusivo' ,\n",
        "                     'reclamar' , 'reclamou' , 'reclamando' , 'reclama' , 'queixa' , 'reclamações' , 'complicar' , 'complicado' ,\n",
        "                     'complica' , 'complicando' , 'complicação' , 'complicações' , 'compulsão' , 'oculto' , 'escondendo' , 'admitir' ,\n",
        "                     'concedido' , 'admite' , 'concessão' , 'preocupação' , 'preocupado' , 'preocupações' , 'conciliando' , 'conciliação' ,\n",
        "                     'conciliações' , 'condenar' , 'condenação' , 'condenações' , 'condenado' , 'condena' , 'perdoar' , 'tolerado' ,\n",
        "                     'confessar' , 'confessado' , 'confessa' , 'confessando' , 'confissão' , 'limitar' , 'confinado' , 'confinamento' ,\n",
        "                     'confinamentos' , 'confins' , 'confinando' , 'confiscar' , 'confiscado' , 'confisca' , 'confiscando' , 'confisco' ,\n",
        "                     'confiscos' , 'conflito' , 'em conflito' , 'conflitante' , 'conflitos' , 'enfrentar' , 'confronto' , 'confrontos' ,\n",
        "                     'confrontado' , 'confrontando' , 'confronta' , 'confundir' , 'confuso' , 'confunde' , 'confusamente' , 'confusão' ,\n",
        "                     'conspirações' , 'conspiração' , 'conspirador' , 'conspiratório' , 'conspiradores' , 'conspirar' , 'conspirou' ,\n",
        "                     'conspira' , 'conspirando' , 'desprezo' , 'contender' , 'contendido' , 'contendendo' , 'contende' , 'contenção' ,\n",
        "                     'contenções' , 'contencioso' , 'contenciosamente' , 'contestado' , 'contestando' , 'contração' , 'contrações' ,\n",
        "                     'contraditório' , 'contradito' , 'contradizendo' , 'contradição' , 'contradições' , 'contradiz' , 'contrário' ,\n",
        "                     'controverso' , 'controvérsias' , 'controvérsia' , 'condenando' , 'convicção' , 'convicções' , 'corrigido' ,\n",
        "                     'corrigindo' , 'correção' , 'correções' , 'corrige' , 'corromper' , 'corrompido' , 'corrompendo' , 'corrupção' ,\n",
        "                     'corrupções' , 'corruptamente' , 'dispendioso' , 'reconvenção' , 'recontratada' , 'falsificado' , 'falsificador' ,\n",
        "                     'falsificadores' , 'falsificação' , 'falsificações' , 'contramedida' , 'contramedidas' , 'crime' , 'crimes' ,\n",
        "                     'criminoso' , 'criminalmente' , 'criminosos' , 'crises' , 'crise' , 'crítico' , 'criticamente' , 'crítica' ,\n",
        "                     'críticas' , 'criticar' , 'criticado' , 'critica' , 'criticando' , 'crucial' , 'crucialmente' , 'culpabilidade' ,\n",
        "                     'culpado' , 'culpável' , 'pesado' , 'reduzir' , 'reduzido' , 'reduzindo' , 'contingenciamento' , 'reduções' ,\n",
        "                     'curtails' , 'cortar' , 'cortes' , 'ataque cibernético' , 'ataques cibernéticos' , 'cyberbullying' , 'cibercrime' ,\n",
        "                     'crimes cibernéticos' , 'cibercriminoso' , 'cibercriminosos' , 'danificar' , 'estragado' , 'danos' , 'danificando' ,\n",
        "                     'umedecer' , 'umedecido' , 'perigo' , 'perigoso' , 'perigosamente' , 'perigos' , 'impasse' , 'bloqueado' ,\n",
        "                     'deadlocking' , 'deadlocks' , 'peso morto' , 'deadweights' , 'exclusão' , 'exclusões' , 'excluído' , 'falecido' ,\n",
        "                     'engano' , 'enganoso' , 'falsidade' , 'enganar' , 'enganado' , 'engana' , 'enganando' , 'decepção' , 'enganos' ,\n",
        "                     'enganosamente' , 'declínio' , 'recusado' , 'declínios' , 'declinante' , 'desfigurar' , 'desfigurado' , 'desfiguração' ,\n",
        "                     'difamação' , 'difamações' , 'difamatório' , 'difamar' , 'difamado' , 'difama' , 'padrão' , 'padronizadas' ,\n",
        "                     'inadimplente' , 'padrões' , 'derrota' , 'derrotado' , 'derrotar' , 'derrotas' , 'defeito' , 'defeituoso' , 'defeitos' ,\n",
        "                     'defender' , 'réu' , 'réus' , 'defendido' , 'defendendo' , 'defende' , 'defensiva' , 'adiar' , 'deficiências' ,\n",
        "                     'deficiência' , 'deficiente' , 'déficit' , 'déficits' , 'defraudar' , 'defraudado' , 'defunto' , 'degradação' ,\n",
        "                     'degradações' , 'degradar' , 'degradado' , 'degrada' , 'degradante' , 'demora' , 'atrasado' , 'atrasando' ,\n",
        "                     'deletério' , 'deliberar' , 'deliberado' , 'deliberadamente' , 'inadimplência' , 'delinquência' , 'delinquente' ,\n",
        "                     'delinqüentemente' , 'delinquentes' , 'delist' , 'deslistagem' , 'delists' , 'morte' , 'demised' , 'demises' ,\n",
        "                     'demising' , 'demolido' , 'demolição' , 'demolições' , 'rebaixar' , 'rebaixado' , 'rebaixamentos' , 'rebaixando' ,\n",
        "                     'rebaixamento' , 'negação' , 'negações' , 'negado' , 'nega' , 'denegrir' , 'denegrido' , 'denigre' , 'denegrindo' ,\n",
        "                     'denigração' , 'negar' , 'negando' , 'esgotar' , 'empobrecido' , 'esgota' , 'esgotando' , 'depleção' , 'depleções' ,\n",
        "                     'deprecação' , 'abaixar' , 'depressivo' , 'deprime' , 'deprimente' , 'privação' , 'privar' , 'privado' , 'priva' ,\n",
        "                     'privando' , 'depreciativo' , 'desestabilização' , 'desestabilizar' , 'desestabilizado' , 'desestabilizando' ,\n",
        "                     'destruir' , 'destruído' , 'destruindo' , 'destrói' , 'destruição' , 'destrutivo' , 'deter' , 'detido' , 'detenção' ,\n",
        "                     'detenções' , 'dissuadir' , 'deteriorar' , 'deteriorado' , 'se deteriora' , 'deteriorando' , 'deterioração' ,\n",
        "                     'deteriorações' , 'dissuadido' , 'dissuasão' , 'impedimentos' , 'dissuasivo' , 'deters' , 'diminuir' , 'prejudicou' ,\n",
        "                     'prejudicando' , 'detrimento' , 'prejudicial' , 'prejudicialmente' , 'detrimentos' , 'desvalorizar' , 'desvalorizado' ,\n",
        "                     'desvaloriza' , 'desvalorização' , 'devastar' , 'devastado' , 'devastador' , 'devastação' , 'desviar' , 'desviada' ,\n",
        "                     'desvia' , 'desviando' , 'desvio' , 'devolver' , 'devolvido' , 'deves' , 'devolvendo' , 'difícil' , 'dificuldades' ,\n",
        "                     'dificilmente' , 'dificuldade' , 'diminuído' , 'diminui' , 'diminuindo' , 'diminuição' , 'desvantagem' ,\n",
        "                     'desfavorecido' , 'desvantajoso' , 'desvantagens' , 'desfiliação' , 'discordar' , 'desagradável' , 'discordou' ,\n",
        "                     'discordando' , 'desacordo' , 'desentendimentos' , 'discorda' , 'não permitir' , 'rejeição' , 'nulidades' ,\n",
        "                     'não permitido' , 'não permitindo' , 'não permite' , 'desaparecer' , 'desaparecimento' , 'desaparecimentos' ,\n",
        "                     'desaparecido' , 'desaparecendo' , 'desaparece' , 'decepcionar' , 'desapontado' , 'decepcionante' , 'desapontadoramente' ,\n",
        "                     'desapontamento' , 'decepções' , 'desaponta' , 'desaprovação' , 'reprovações' , 'desaprovar' , 'reprovado' , 'desaprova' ,\n",
        "                     'desaprovando' , 'dissocia' , 'desassociando' , 'dissociação' , 'dissociações' , 'desastre' , 'desastres' , 'desastroso' ,\n",
        "                     'desastrosamente' , 'rejeitar' , 'repúdio' , 'disciplinar' , 'renunciado' , 'aviso legal' , 'isenções de responsabilidade' ,\n",
        "                     'renunciando' , 'divulgar' , 'divulgado' , 'divulga' , 'divulgando' , 'descontinuação' , 'descontinuações' ,\n",
        "                     'descontinuar' , 'interrompido' , 'interrompe' , 'descontinuando' , 'desencorajar' , 'desencorajado' , 'desencoraja' ,\n",
        "                     'desencorajando' , 'desacreditar' , 'desacreditado' , 'descrédito' , 'discrepâncias' , 'discrepância' , 'desfavor' ,\n",
        "                     'desfavorável' , 'desfavorece' , 'vomitar' , 'expelido' , 'desagregação' , 'desagregações' , 'disgorges' , 'despejo' ,\n",
        "                     'desgraça' , 'vergonhoso' , 'vergonhosamente' , 'desonesto' , 'desonestamente' , 'desonestidade' , 'desonra' , 'desonroso' ,\n",
        "                     'desonrosamente' , 'desonrado' , 'desincentivos' , 'desinteressado' , 'desinteressadamente' , 'desinteresse' , 'desleal' ,\n",
        "                     'deslealmente' , 'deslealdade' , 'triste' , 'desanimadamente' , 'dispensar' , 'despedimento' , 'despedimentos' ,\n",
        "                     'demitido' , 'demite' , 'demitindo' , 'desordenado' , 'depreciar' , 'depreciação' , 'depreciações' , 'depreciativamente' ,\n",
        "                     'disparidades' , 'disparidade' , 'deslocar' , 'deslocado' , 'deslocamento' , 'deslocamentos' , 'desloca' , 'deslocando' ,\n",
        "                     'descarte' , 'desapropriar' , 'despossuído' , 'desapropria' , 'desapropriando' , 'desproporção' , 'desproporcional' ,\n",
        "                     'desproporcionalmente' , 'disputa' , 'disputado' , 'disputas' , 'disputando' , 'desqualificação' , 'desqualificações' ,\n",
        "                     'desqualificado' , 'desqualifica' , 'desqualificar' , 'desqualificando' , 'desconsiderado' , 'desconsiderando' ,\n",
        "                     'desconsidera' , 'perturbe' , 'perturbado' , 'atrapalhando' , 'perturbação' , 'interrupções' , 'perturbador' ,\n",
        "                     'perturba' , 'insatisfação' , 'insatisfeito' , 'dissidência' , 'dissentido' , 'dissidente' , 'dissidentes' ,\n",
        "                     'discordâncias' , 'dissolução' , 'dissoluções' , 'distorcer' , 'distorcido' , 'distorcendo' , 'distorção' , 'distorções' ,\n",
        "                     'distorce' , 'distrair' , 'distraído' , 'distração' , 'distrações' , 'distrai' , 'angústia' , 'angustiado' , 'perturbar' ,\n",
        "                     'distúrbios' , 'desviado' , 'desocupar' , 'desocupado' , 'desinvestimento' , 'desinvestimentos' , 'divórcio' , 'divorciado' ,\n",
        "                     'divulgação' , 'dúvida' , 'duvidou' , 'duvidoso' , 'dúvidas' , 'redimensionar' , 'downsized' , 'reduções de tamanho' ,\n",
        "                     'redução de tamanho' , 'downsizings' , 'tempo de inatividade' , 'tempos de inatividade' , 'desaceleração' ,\n",
        "                     'desacelerações' , 'para baixo' , 'arrasto' , 'drástico' , 'drasticamente' , 'recua' , 'desistiu' , 'seca' , 'secas' ,\n",
        "                     'coação' , 'disfunção' , 'disfuncional' , 'disfunções' , 'facilitando' , 'notório' , 'notoriamente' , 'embargo' ,\n",
        "                     'embargado' , 'embargos' , 'embargada' , 'embaraçar' , 'envergonhado' , 'embaraços' , 'embaraçoso' , 'embaraço' ,\n",
        "                     'constrangimentos' , 'desfalque' , 'embezçador' , 'desfalques' , 'invadir' , 'invadido' , 'invasão' , 'invasões' ,\n",
        "                     'onerando' , 'encrava' , 'oneração' , 'empecilhos' , 'pôr em perigo' , 'ameaçadas de extinção' , 'colocando em risco' ,\n",
        "                     'põe em perigo' , 'impor' , 'ordenado' , 'ordenando' , 'corroer' , 'corroído' , 'erode' , 'corroendo' , 'erosão' ,\n",
        "                     'errático' , 'erraticamente' , 'errou' , 'errando' , 'errôneo' , 'erroneamente' , 'erro' , 'erros' , 'errs' , 'escalar' ,\n",
        "                     'escalado' , 'escalona' , 'escalando' , 'evadir' , 'evadido' , 'evade' , 'evadindo' , 'evasões' , 'evasivo' , 'expulsar' ,\n",
        "                     'despejado' , 'evitando' , 'despejos' , 'expulsos' , 'exacerbar' , 'exacerbado' , 'exacerba' , 'exacerbando' ,\n",
        "                     'exacerbação' , 'exacerbações' , 'exagerar' , 'exagerado' , 'exagera' , 'exagerando' , 'exagero' , 'excessivo' ,\n",
        "                     'excessivamente' , 'desculpar' , 'exculpado' , 'exclui' , 'desculpando' , 'exculpação' , 'desculpas' , 'desculpatório' ,\n",
        "                     'exonerar' , 'exonerado' , 'exonera' , 'exonerando' , 'exoneração' , 'exonerações' , 'explorar' , 'exploração' ,\n",
        "                     'explorações' , 'explorador' , 'explorado' , 'explorando' , 'façanhas' , 'expor' , 'exposto' , 'expõe' , 'expondo' ,\n",
        "                     'expropriar' , 'expropriado' , 'expropria' , 'expropriando' , 'expropriação' , 'expropriações' , 'expulsão' ,\n",
        "                     'expulsões' , 'extenuante' , 'falhou' , 'falhando' , 'falhas' , 'falha' , 'fracassos' , 'cair' , 'falso' , 'falsamente' ,\n",
        "                     'falsifica' , 'falsificar' , 'fatalidades' , 'fatalidade' , 'fatalmente' , 'culpa' , 'com defeito' , 'medo' ,\n",
        "                     'medos' , 'delitos' , 'criminoso' , 'fictício' , 'multado' , 'multas' , 'disparamos' , 'demissão' , 'falho' , 'proibir' ,\n",
        "                     'proibido' , 'proibindo' , 'proíbe' , 'força' , 'forçado' , 'forçando' , 'encerrar' , 'encerrado' , 'forecloses' ,\n",
        "                     'encerramento' , 'execuções hipotecárias' , 'renunciar' , 'antecedentes' , 'perdida' , 'forestall' , 'antecipado' ,\n",
        "                     'arrasando' , 'forestalls' , 'perdendo' , 'perde' , 'forjadores' , 'fraude' , 'fraudes' , 'fraudulento' , 'fraudulentamente' , 'frívolo' , 'frívola' , 'frustrar' , 'frustrado' , 'frustra' , 'frustrante' , 'frustrantemente' , 'frustração' , 'frustrações' , 'fugitivo' , 'fugitivos' , 'gratuito' , 'gratuitamente' , 'queixas' , 'grosseiramente' , 'infundado' , 'parada' , 'parado' , 'dificultar' , 'dificultado' , 'dificulta' , 'assediar' , 'assediado' , 'assédio' , 'prejuízo' , 'prejudicado' , 'ferozmente' , 'ferir' , 'prejudica' , 'dura' , 'mais duro' , 'mais severo' , 'duramente' , 'arriscado' , 'impedido' , 'obstáculo' , 'obstáculos' , 'hostil' , 'hostilidade' , 'doeu' , 'machucando' , 'ocioso' , 'em ponto morto' , 'em marcha lenta' , 'ignorar' , 'ignorado' , 'ignora' , 'ignorando' , 'eu vou' , 'ilegal' , 'ilegalidades' , 'ilegalidade' , 'ilegalmente' , 'ilegível' , 'ilícito' , 'ilicitamente' , 'ilíquido' , 'iliquidez' , 'desequilíbrio' , 'desequilíbrios' , 'imaturo' , 'imoral' , 'prejudicar' , 'impasses' , 'impedir' , 'impede' , 'impedimento' , 'impedindo' , 'iminente' , 'imperativo' , 'imperfeição' , 'imperfeições' , 'inadmissível' , 'implicar' , 'implicado' , 'implica' , 'implicando' , 'impossibilidade' , 'impossível' , 'aprisionar' , 'aprisionado' , 'impura' , 'impraticável' , 'impraticabilidade' , 'prisão' , 'impróprio' , 'indevidamente' , 'impropriedades' , 'impropriedade' , 'imprudente' , 'imprudentemente' , 'incapacidade' , 'inacessível' , 'imprecisões' , 'imprecisão' , 'impreciso' , 'imprecisamente' , 'inação' , 'inações' , 'inativar' , 'inativado' , 'inactiva' , 'inativando' , 'inativação' , 'inativações' , 'inatividade' , 'insuficiências' , 'inadequação' , 'inadequada' , 'inadequadamente' , 'inadvertido' , 'inadvertidamente' , 'inadvisibilidade' , 'desaconselhável' , 'inapropriado' , 'inapropriadamente' , 'desatenção' , 'incapaz' , 'incapacitado' , 'encarcerar' , 'encarcerado' , 'encarcera' , 'encarcerando' , 'encarceramento' , 'encarceramentos' , 'incidência' , 'incidências' , 'incidente' , 'incidentes' , 'incompatibilidades' , 'incompatibilidade' , 'incompatível' , 'incompetência' , 'incompetente' , 'incompetentemente' , 'incompetentes' , 'incompleto' , 'incompletude' , 'inconclusivo' , 'inconsistências' , 'inconsistência' , 'inconsistente' , 'inconveniência' , 'inconveniências' , 'inconveniente' , 'incorreta' , 'incorretamente' , 'incorreção' , 'indecência' , 'indecente' , 'indefeasible' , 'indefazvelmente' , 'indictable' , 'ineficaz' , 'ineficácia' , 'ineficiências' , 'ineficiência' , 'ineficiente' , 'ineficientemente' , 'inelegibilidade' , 'inelegível' , 'injusto' , 'injustamente' , 'desigualdades' , 'desigualdade' , 'inevitável' , 'inexperiência' , 'inexperiente' , 'inferior' , 'infligido' , 'infração' , 'infrações' , 'infringir' , 'infringido' , 'infracções' , 'infringe' , 'infringindo' , 'inibido' , 'liminar' , 'injunções' , 'ferido' , 'lesões' , 'ferindo' , 'desordenadamente' , 'inquérito' , 'inseguro' , 'insensível' , 'insolvências' , 'insolvência' , 'insolvente' , 'instabilidade' , 'insubordinação' , 'insuficiência' , 'insuficiente' , 'insuficientemente' , 'insurreição' , 'insurreições' , 'intencional' , 'interferir' , 'interferiu' , 'interferência' , 'interferências' , 'interfere' , 'interferindo' , 'intermitente' , 'intermitentemente' , 'interromper' , 'interrompendo' , 'interrupção' , 'intimidação' , 'intrusão' , 'inválido' , 'invalidar' , 'invalidado' , 'invalida' , 'invalidando' , 'invalidação' , 'invalidez' , 'investigar' , 'investigado' , 'investiga' , 'investigando' , 'investigação' , 'investigações' , 'involuntariamente' , 'involuntário' , 'irreconciliável' , 'irreconciliavelmente' , 'irrecuperável' , 'irrecuperavelmente' , 'irregular' , 'irregularidades' , 'irregularidade' , 'irregularmente' , 'irreparável' , 'irreversível' , 'comprometer' , 'ameaçado' , 'justificável' , 'propina' , 'propinas' , 'conscientemente' , 'falta' , 'faltou' , 'em falta' , 'sem brilho' , 'atraso' , 'defasagens' , 'lapso' , 'caducado' , 'lapsos' , 'caducando' , 'tarde' , 'branqueamento' , 'demitir' , 'demissões' , 'mentira' , 'limitação' , 'limitações' , 'persistente' , 'liquidar' , 'liquidado' , 'liquida' , 'liquidando' , 'liquidação' , 'liquidações' , 'liquidante' , 'liquidatários' , 'litigante' , 'litigantes' , 'litigar' , 'litigado' , 'litígios' , 'litigando' , 'litígio' , 'bloqueio' , 'bloqueios' , 'perder' , 'perda' , 'perdas' , 'perdido' , 'deitado' , 'prevaricação' , 'malfeito' , 'avaria' , 'avarias' , 'malícia' , 'malicioso' , 'maliciosamente' , 'negligência' , 'manipular' , 'manipulado' , 'manipula' , 'manipulando' , 'manipulação' , 'manipulações' , 'manipulativo' , 'remarcação' , 'remarcações' , 'aplicação incorreta' , 'erros de aplicação' , 'mal aplicado' , 'aplica erros' , 'aplicar mal' , 'apropriação indevida' , 'apropriação indébita' , 'apropriações indébitas' , 'mal rotulados' , 'calcular mal' , 'calculou mal' , 'calcula mal' , 'calculando mal' , 'erro de cálculo' , 'erros de cálculo' , 'descaracterização' , 'travessura' , 'erro de classificação' , 'erros de classificação' , 'classificado incorretamente' , 'classificar erroneamente' , 'falta de comunicação' , 'má conduta' , 'desatualizado' , 'contravenção' , 'contravenções' , 'mal direcionado' , 'maltratar' , 'maltratado' , 'mishandles' , 'desinformar' , 'desinformação' , 'mal informado' , 'desinformando' , 'informa desinformado' , 'interpretar mal' , 'má interpretação' , 'interpretações erradas' , 'mal interpretado' , 'julgar mal' , 'mal avaliado' , 'julgamentos errados' , 'erro de julgamento' , 'erros de julgamento' , 'errar' , 'rotulado incorretamente' , 'rotulagem incorreta' , 'rótulos errados' , 'induzir em erro' , 'má administração' , 'mal administrado' , 'má gestão' , 'erros de gestão' , 'extraviado' , 'erro de preço' , 'erros de mispricings' , 'deturpar' , 'deturpação' , 'deturpações' , 'deturpado' , 'senhorita' , 'sente falta' , 'erros de conduta' , 'declaração errada' , 'passo em falso' , 'por engano' , 'mistrials' , 'mal entendido' , 'mal entendidos' , 'incompreendido' , 'uso indevido' , 'mal utilizado' , 'monopolista' , 'monopolistas' , 'monopolização' , 'monopolizar' , 'monopolizado' , 'monopoliza' , 'monopolizando' , 'monopólio' , 'moratória' , 'moratórias' , 'na meada' , 'naufrágio' , 'negativo' , 'negativamente' , 'negativos' , 'negligenciado' , 'negligente' , 'negligenciando' , 'negligencia' , 'negligencias' , 'negligentemente' , 'não-entretenimento' , 'não competitivo' , 'não conformidade' , 'não conformidades' , 'não complacente' , 'não complicação' , 'não conforme' , 'não divulgação' , 'não funcional' , 'falta de pagamento' , 'não pagamento' , 'não desempenho' , 'não-desempenho' , 'não produtora' , 'improdutivo' , 'não renovação' , 'incômodo' , 'perturbações' , 'objetado' , 'objeção' , 'censurável' , 'objetivamente' , 'objeções' , 'obsceno' , 'obscenidade' , 'obsolescência' , 'obsoleto' , 'obstruir' , 'obstruído' , 'obstruindo' , 'obstrução' , 'obstruções' , 'ofensa' , 'ofensas' , 'ofender' , 'ofendido' , 'infratores' , 'ofende' , 'omissão' , 'omissões' , 'omitir' , 'omite' , 'omitido' , 'oportunista' , 'oportunisticamente' , 'opor' , 'opôs-se' , 'opõe-se' , 'se opondo' , 'oposição' , 'oposições' , 'falta de energia' , 'fora de moda' , 'excesso de' , 'excedentes' , 'overbuild' , 'excesso de construção' , 'overbuilds' , 'overbuilt' , 'excesso de capacidade' , 'sobrecarga' , 'sobrecargas' , 'superar' , 'supera' , 'superação' , 'superestimar' , 'superestimado' , 'superestima' , 'superestimando' , 'superestimação' , 'superestimações' , 'negligenciar' , 'esquecido' , 'com vista' , 'excesso de pagamento' , 'pagamento indevido' , 'pagamentos indevidos' , 'superproduzido' , 'superprodutos' , 'superprodução' , 'ultrapassagem' , 'superações' , 'ofuscar' , 'ofuscado' , 'ofuscando' , 'obscurece' , 'exageros' , 'excesso de oferta' , 'abertamente' , 'reviravolta' , 'derrubado' , 'derrubando' , 'derruba' , 'supervalorizar' , 'supervalorizado' , 'sobrevalorização' , 'pânico' , 'penalizar' , 'penalizado' , 'penaliza' , 'penalidades' , 'multa' , 'perjúrio' , 'perpetrar' , 'perpetrado' , 'perpetra' , 'perpetrando' , 'perpetração' , 'persistir' , 'persistiu' , 'persistência' , 'persistentemente' , 'persistindo' , 'persiste' , 'penetrante' , 'penetrantemente' , 'penetração' , 'mesquinho' , 'piquete' , 'demandante' , 'demandantes' , 'suplica' , 'suplicou' , 'implorando' , 'articulados' , 'pedidos' , 'pled' , 'pobre' , 'mal' , 'poses' , 'posando' , 'postergar' , 'adiado' , 'adiamento' , 'adiamentos' , 'precipitado' , 'precipitadamente' , 'predatório' , 'preconceito' , 'preconceituoso' , 'preconceitos' , 'prematuro' , 'prematuramente' , 'pressionando' , 'pré-julgamento' , 'prevenção' , 'problema' , 'problemático' , 'problemas' , 'prolongar' , 'prolongamento' , 'prolongamentos' , 'prolongado' , 'prolongando' , 'prolonga' , 'propenso' , 'processar' , 'processado' , 'processos judiciais' , 'protesto' , 'protestado' , 'manifestante' , 'manifestantes' , 'protestando' , 'protestos' , 'protração' , 'provocar' , 'provocado' , 'provoca' , 'provocando' , 'punido' , 'castigar' , 'punir' , 'punição' , 'punições' , 'punitivo' , 'parecer' , 'pretendido' , 'supostamente' , 'pretendendo' , 'pretextos' , 'questão' , 'questionável' , 'questionado' , 'questionando' , 'questões' , 'sair' , 'desistir' , 'trapaceiro' , 'extorsão' , 'racionalização' , 'racionalizações' , 'racionalizar' , 'racionalizado' , 'racionaliza' , 'racionalizando' , 'reavaliação' , 'reavaliações' , 'reatribuir' , 'reatribuído' , 'reatribuição' , 'reatribuições' , 'reatribui' , 'recordar' , 'recordado' , 'recordando' , 'recorda' , 'recessão' , 'recessivo' , 'recessões' , 'imprudente' , 'imprudência' , 'redigir' , 'redigido' , 'redigindo' , 'redação' , 'redações' , 'redefinição' , 'redefinido' , 'redefaults' , 'reparação' , 'repara' , 'reparando' , 'recusa' , 'recusas' , 'recusar' , 'recusou' , 'recusando' , 'rejeitado' , 'rejeitando' , 'rejeições' , 'rejeita' , 'renuncia' , 'renúncia' , 'renúncias' , 'relutância' , 'relutante' , 'renegociar' , 'renegociado' , 'renegociação' , 'renegociações' , 'reparações' ,\n",
        "                     'recuperado' , 'repossences' , 'repossessing' , 'reintegração de posse' , 'repossessions' , 'repudiar' , 'repudiado' ,\n",
        "                     'repudia' , 'repudiando' , 'demitir-se' , 'resignado' , 'reafirmar' , 'reafirmado' , 'reformulações' , 'reafirma' ,\n",
        "                     'reafirmando' , 'reestruturar' , 'reestruturado' , 'reestrutura' , 'reestruturação' , 'reestruturações' , 'retaliar' ,\n",
        "                     'retaliado' , 'retaliações' , 'retaliação' , 'retribuição' , 'retribuições' , 'revogado' , 'ridículo' , 'ridicularizado' ,\n",
        "                     'ridículos' , 'ridicularizando' , 'mais arriscado' , 'sabotar' , 'sacrifício' , 'sacrificado' , 'sacrifícios' ,\n",
        "                     'sacrificial' , 'sacrificando' , 'escandaloso' , 'escândalos' , 'escrutinar' , 'examinado' , 'escrutina' , 'escrutinando' ,\n",
        "                     'escrutínio' , 'segredo' , 'aproveitar' , 'apreendido' , 'aproveita' , 'apreensão' , 'sério' , 'a sério' , 'gravidade' ,\n",
        "                     'revés' , 'contratempos' , 'separar' , 'grave' , 'cortado' , 'severamente' , 'severidades' , 'nitidamente' , 'chocado' ,\n",
        "                     'escassez' , 'encolhimento' , 'encolhimentos' , 'desligar' , 'desligamentos' , 'fecha' , 'fechando' , 'calúnia' ,\n",
        "                     'caluniado' , 'calunioso' , 'calúnias' , 'deslizamento' , 'derrapagens' , 'lento' , 'desacelere' , 'lentidão' ,\n",
        "                     'desacelerou' , 'mais devagar' , 'mais lento' , 'desacelerando' , 'lentamente' , 'lerdo' , 'preguiçosamente' ,\n",
        "                     'solvências' , 'solvência' , 'spam' , 'spammers' , 'spamming' , 'desconcertante' , 'estagnado' , 'estagnar' , 'estagna' ,\n",
        "                     'estagnando' , 'estagnação' , 'paralisação' , 'paralisações' , 'roubado' , 'parando' , 'pára' , 'tensão' , 'tensas' ,\n",
        "                     'cepas' , 'estresse' , 'estressado' , 'estressante' , 'estressando' , 'rigoroso' , 'submetido' , 'sujeitando' , 'sujeição' ,\n",
        "                     'intimação' , 'intimado' , 'intimações' , 'desclassificado' , 'sofra' , 'sofreu' , 'sofrimento' , 'sofre' ,\n",
        "                     'processando' , 'convocado' , 'convocação' , 'convocações' , 'suscetibilidade' , 'suscetível' , 'suspeito' ,\n",
        "                     'suspeitos' , 'suspender' , 'suspenso' , 'suspendendo' , 'suspende' , 'suspensão' , 'suspensões' , 'suspeita' ,\n",
        "                     'suspeitas' , 'desconfiado' , 'mancha' , 'contaminado' , 'contaminação' , 'impurezas' , 'tenso' , 'terminar' ,\n",
        "                     'terminado' , 'termina' , 'terminando' , 'terminação' , 'terminações' , 'testemunhar' , 'testemunhando' ,\n",
        "                     'ameaça' , 'ameaçar' , 'ameaçador' , 'ameaças' , 'apertar' , 'tolerar' , 'tolera' , 'tolerando' , 'tolerância' ,\n",
        "                     'tortuoso' , 'tortuosamente' , 'tragédias' , 'tragédia' , 'trágico' , 'tragicamente' , 'traumático' , 'incomodado' ,\n",
        "                     'turbulência' , 'inaceitável' , 'inaceitavelmente' , 'não contabilizado' , 'sem aviso prévio' , 'imprevisto' ,\n",
        "                     'desaprovado' , 'pouco atraente' , 'não autorizado' , 'indisponibilidade' , 'indisponível' , 'inconsciente' ,\n",
        "                     'incobrável' , 'não recolhido' , 'incobrabilidade' , 'incobráveis' , 'não-competitivo' , 'inconcebível' ,\n",
        "                     'inconscientemente' , 'incontrolável' , 'incontrolavelmente' , 'descontrolado' , 'não corrigida' , 'descobrir' ,\n",
        "                     'descoberto' , 'descobrindo' , 'descobre' , 'não-entregável' , 'não entregue' , 'subcapitalizado' , 'rebaixo' ,\n",
        "                     'ressaltos' , 'subcotação' , 'subestimar' , 'subestimado' , 'subestima' , 'subestimando' , 'subestimação' ,\n",
        "                     'subfinanciado' , 'underinsured' , 'minar' , 'minado' , 'mina' , 'minando' , 'mal pago' , 'pagamento a menor' ,\n",
        "                     'pagamentos a menor' , 'underpays' , 'underperform' , 'baixo desempenho' , 'com baixo desempenho' , 'subproduzido' ,\n",
        "                     'subprodução' , 'subnotificação' , 'eufemismo' , 'subavaliações' , 'subutilização' , 'subutilizado' , 'indesejável' ,\n",
        "                     'indesejado' , 'não detectado' , 'indeterminado' , 'não revelado' , 'não documentado' , 'indevido' , 'antieconômico' ,\n",
        "                     'não economicamente' , 'desempregado' , 'desemprego' , 'antiético' , 'sem ética' , 'sem justificativa' , 'inesperado' ,\n",
        "                     'inesperadamente' , 'injusto' , 'desfavorabilidade' , 'desfavoravelmente' , 'inviável' , 'inapto' , 'inaptidão' ,\n",
        "                     'imprevisível' , 'infeliz' , 'infelizmente' , 'sem fundamento' , 'sem financiamento' , 'sem seguro' , 'não intencional' ,\n",
        "                     'injustificável' , 'injustificadamente' , 'injustificado' , 'sem saber' , 'sem licença' , 'sem liquidez' ,\n",
        "                     'não comercializável' , 'inegociável' , 'não-meritório' , 'desnecessariamente' , 'desnecessário' , 'não remunerado' ,\n",
        "                     'não realizado' , 'nao planejado' , 'impopular' , 'imprevisibilidade' , 'improfitabilidade' , 'não rentável' ,\n",
        "                     'não qualificado' , 'irrealista' , 'irracional' , 'irracionalidade' , 'irracionalmente' , 'não receptiva' ,\n",
        "                     'não recuperado' , 'não reembolsado' , 'não confiável' , 'sem remédio' , 'não declarado' , 'não resolvido' ,\n",
        "                     'agitação' , 'invendável' , 'insatisfatório' , 'não programado' , 'não vendido' , 'insalubre' , 'instável' ,\n",
        "                     'mal sucedido' , 'sem sucesso' , 'impropriamente' , 'insuspeito' , 'desavisado' , 'insustentável' , 'intempestivo' ,\n",
        "                     'inverdade' , 'falsa' , 'sem vergonha' , 'inverdades' , 'inutilizável' , 'sem vontade' , 'falta de vontade' ,\n",
        "                     'chateado' , 'urgência' , 'urgente' , 'usurário' , 'usurpar' , 'usurpado' , 'usurpação' , 'usurpas' , 'usura' ,\n",
        "                     'vandalismo' , 'veredito' , 'veredictos' , 'vetado' , 'vítimas' , 'viola' , 'violando' , 'violativo' , 'infrator' ,\n",
        "                     'violadores' , 'violência' , 'violento' , 'violentamente' , 'viciar' , 'viciado' , 'viciadas' , 'viciando' ,\n",
        "                     'viciação' , 'volátil' , 'volatilidade' , 'vulnerabilidades' , 'vulnerabilidade' , 'vulnerável' , 'vulneravelmente' ,\n",
        "                     'advertir' , 'avisou' , 'aviso' , 'advertências' , 'adverte' , 'desperdiçado' , 'desperdício' , 'desperdiçando' ,\n",
        "                     'fraco' , 'enfraquecer' , 'enfraquecido' , 'enfraquecimento' , 'enfraquece' , 'mais fraco' , 'fracamente' , 'fraqueza' ,\n",
        "                     'fraquezas' , 'intencionalmente' , 'preocupante' , 'pior' , 'piorar' , 'piorou' , 'piora' , 'inútil' , 'escreva' ,\n",
        "                     'eliminar' , 'writeoffs' , 'errado' , 'transgressão'] \n",
        "neg_concepts = [concept for concept in negative_concepts if concept in keyed_vocab]"
      ],
      "metadata": {
        "id": "uXc41dyX0uqW"
      },
      "execution_count": null,
      "outputs": []
    },
    {
      "cell_type": "code",
      "source": [
        "!wget https://raw.githubusercontent.com/towardsNLP/IMDB-Semantic-Sentiment-Analysis/main/Word2Vec/src/w2v_utils.py"
      ],
      "metadata": {
        "id": "sC9fkJdt9Hbs"
      },
      "execution_count": null,
      "outputs": []
    },
    {
      "cell_type": "code",
      "source": [
        "from w2v_utils import overall_semantic_sentiment_analysis, topn_semantic_sentiment_analysis\n",
        "\n",
        "# Calculating Semantic Sentiment Scores by OSSA model\n",
        "overall_df_scores = overall_semantic_sentiment_analysis (keyed_vectors = keyed_vectors,\n",
        "                                                   positive_target_tokens = pos_concepts, \n",
        "                                                   negative_target_tokens = neg_concepts,\n",
        "                                                   doc_tokens = df['cleaned_headlines'])\n",
        "\n",
        "# Calculating Semantic Sentiment Scores by TopSSA model\n",
        "topn_df_scores = topn_semantic_sentiment_analysis (keyed_vectors = keyed_vectors,\n",
        "                                                   positive_target_tokens = pos_concepts, \n",
        "                                                   negative_target_tokens = neg_concepts,\n",
        "                                                   doc_tokens = df['cleaned_headlines'],\n",
        "                                                     topn=30)"
      ],
      "metadata": {
        "id": "O-Av7ge_7NeQ"
      },
      "execution_count": null,
      "outputs": []
    },
    {
      "cell_type": "code",
      "source": [
        "df['overall_PSS'] = overall_df_scores[0] \n",
        "df['overall_NSS'] = overall_df_scores[1] \n",
        "df['overall_semantic_sentiment_score'] = overall_df_scores[2] \n",
        "df['overall_semantic_sentiment_polarity'] = overall_df_scores[3]"
      ],
      "metadata": {
        "id": "tYhcyKPh9rCu"
      },
      "execution_count": null,
      "outputs": []
    },
    {
      "cell_type": "code",
      "source": [
        "df['topn_PSS'] = topn_df_scores[0] \n",
        "df['topn_NSS'] = topn_df_scores[1] \n",
        "df['topn_semantic_sentiment_score'] = topn_df_scores[2] \n",
        "df['topn_semantic_sentiment_polarity'] = topn_df_scores[3]"
      ],
      "metadata": {
        "id": "KBqygedK9tie"
      },
      "execution_count": null,
      "outputs": []
    },
    {
      "cell_type": "code",
      "source": [
        "df['overall_semantic_sentiment_polarity'].value_counts()"
      ],
      "metadata": {
        "id": "s4IxWUFq9uAU"
      },
      "execution_count": null,
      "outputs": []
    },
    {
      "cell_type": "code",
      "source": [
        "df['topn_semantic_sentiment_polarity'].value_counts()"
      ],
      "metadata": {
        "id": "NK5_BpGw-JZS"
      },
      "execution_count": null,
      "outputs": []
    },
    {
      "cell_type": "code",
      "source": [
        "df2 = df[['headlines','overall_semantic_sentiment_polarity']]"
      ],
      "metadata": {
        "id": "Nh9E5N6f-cil"
      },
      "execution_count": null,
      "outputs": []
    },
    {
      "cell_type": "code",
      "source": [
        "df2"
      ],
      "metadata": {
        "id": "x_aPrQk1-2fd"
      },
      "execution_count": null,
      "outputs": []
    },
    {
      "cell_type": "code",
      "source": [
        "df2 = df2.set_axis(['headlines', 'sentiment'], axis=1, inplace=False)"
      ],
      "metadata": {
        "id": "AADr8iQ4-3Uo"
      },
      "execution_count": null,
      "outputs": []
    },
    {
      "cell_type": "code",
      "source": [
        "df2.to_csv('dataset_FinalVersion.csv')"
      ],
      "metadata": {
        "id": "q6D5k1T0BkK_"
      },
      "execution_count": null,
      "outputs": []
    },
    {
      "cell_type": "code",
      "source": [
        "df = df[['headlines','overall_semantic_sentiment_score']]\n",
        "df"
      ],
      "metadata": {
        "id": "CjDbsw1u_T3h"
      },
      "execution_count": null,
      "outputs": []
    },
    {
      "cell_type": "code",
      "source": [
        ""
      ],
      "metadata": {
        "id": "CFpkmQp0_Uux"
      },
      "execution_count": null,
      "outputs": []
    }
  ]
}