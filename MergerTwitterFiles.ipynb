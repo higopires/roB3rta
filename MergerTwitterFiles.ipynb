{
  "cells": [
    {
      "cell_type": "code",
      "execution_count": null,
      "metadata": {
        "id": "ei0O1DIjvBPY"
      },
      "outputs": [],
      "source": [
        "import pandas as pd\n",
        "import glob\n",
        "import os"
      ]
    },
    {
      "cell_type": "code",
      "execution_count": null,
      "metadata": {
        "id": "MxOQ5erJvBPc"
      },
      "outputs": [],
      "source": [
        "path = r'C:\\Users\\Higo Felipe\\Desktop\\Doutorado\\Artigo para Journal\\sn-article-template\\corpus' # use your path\n",
        "all_files = glob.glob(os.path.join(path, \"*.csv\"))"
      ]
    },
    {
      "cell_type": "code",
      "execution_count": null,
      "metadata": {
        "id": "XPlleu4zvBPe"
      },
      "outputs": [],
      "source": [
        "df = pd.concat((pd.read_csv(f) for f in all_files))"
      ]
    },
    {
      "cell_type": "code",
      "execution_count": null,
      "metadata": {
        "id": "UjH1l-uwvBPf"
      },
      "outputs": [],
      "source": [
        "df"
      ]
    },
    {
      "cell_type": "code",
      "execution_count": null,
      "metadata": {
        "id": "G2PjCuKovBPg"
      },
      "outputs": [],
      "source": [
        "df.reset_index()"
      ]
    },
    {
      "cell_type": "code",
      "execution_count": null,
      "metadata": {
        "id": "ejG_mIf0vBPh"
      },
      "outputs": [],
      "source": [
        "result_df = df.loc[df.duplicated(keep='first'), :]"
      ]
    },
    {
      "cell_type": "code",
      "execution_count": null,
      "metadata": {
        "id": "aJ9jIUoqvBPh"
      },
      "outputs": [],
      "source": [
        "result_df"
      ]
    },
    {
      "cell_type": "code",
      "execution_count": null,
      "metadata": {
        "id": "7YNRF6cHvBPi"
      },
      "outputs": [],
      "source": [
        "result_df2 = df.drop_duplicates(subset=['tweet'])"
      ]
    },
    {
      "cell_type": "code",
      "execution_count": null,
      "metadata": {
        "id": "TvM1lqrcvBPk"
      },
      "outputs": [],
      "source": [
        "result_df2"
      ]
    },
    {
      "cell_type": "code",
      "execution_count": null,
      "metadata": {
        "id": "9zUePIfjvBPm"
      },
      "outputs": [],
      "source": [
        "final_df = pd.concat([result_df, result_df2])"
      ]
    },
    {
      "cell_type": "code",
      "execution_count": null,
      "metadata": {
        "id": "eaQSfhjEvBPn"
      },
      "outputs": [],
      "source": [
        "final_df"
      ]
    },
    {
      "cell_type": "code",
      "execution_count": null,
      "metadata": {
        "id": "Z6mmaazFvBPo"
      },
      "outputs": [],
      "source": [
        "import re\n",
        "\n",
        "def remove_mentions(string):\n",
        "    return re.sub(\"@[A-Za-z0-9_]+\",\"@USER\", input)"
      ]
    },
    {
      "cell_type": "code",
      "execution_count": null,
      "metadata": {
        "id": "SUEYBysXvBPo"
      },
      "outputs": [],
      "source": [
        "final_df[\"tweet_without_mentions\"] = final_df[\"tweet\"].apply(lambda text: remove_mentions(text))"
      ]
    },
    {
      "cell_type": "code",
      "execution_count": null,
      "metadata": {
        "id": "qXsag-6JvBPy"
      },
      "outputs": [],
      "source": [
        "final_df"
      ]
    },
    {
      "cell_type": "code",
      "execution_count": null,
      "metadata": {
        "id": "d7V20wN1vBPz"
      },
      "outputs": [],
      "source": [
        "final_df['tweet'] = final_df['tweet'].str.replace(r'@[A-Za-z0-9_]+', '@USER')"
      ]
    },
    {
      "cell_type": "code",
      "execution_count": null,
      "metadata": {
        "id": "jB_b0GB2vBPz"
      },
      "outputs": [],
      "source": [
        "final_df"
      ]
    },
    {
      "cell_type": "code",
      "execution_count": null,
      "metadata": {
        "id": "21A2p6pIvBP0"
      },
      "outputs": [],
      "source": [
        "final_df = final_df.replace({r'\\s+$': '', r'^\\s+': ''}, regex=True).replace(r'\\n',  ' ', regex=True)"
      ]
    },
    {
      "cell_type": "code",
      "execution_count": null,
      "metadata": {
        "id": "rtfQrhhYvBP1"
      },
      "outputs": [],
      "source": [
        "final_df['tweet'] = final_df['tweet'].str.replace(r'http\\S+', 'HTTPURL')"
      ]
    },
    {
      "cell_type": "code",
      "execution_count": null,
      "metadata": {
        "id": "sIJNCfFrvBP2"
      },
      "outputs": [],
      "source": [
        "final_df['tweet'].to_csv(r'C:\\Users\\Higo Felipe\\Desktop\\Doutorado\\Artigo para Journal\\sn-article-template\\corpus\\tweets.txt', header=None, index=None, sep=' ', mode='a')"
      ]
    },
    {
      "cell_type": "code",
      "execution_count": null,
      "metadata": {
        "id": "1tL_TXu3vBP2"
      },
      "outputs": [],
      "source": [
        "final_df"
      ]
    }
  ],
  "metadata": {
    "kernelspec": {
      "display_name": "Python 3",
      "language": "python",
      "name": "python3"
    },
    "language_info": {
      "codemirror_mode": {
        "name": "ipython",
        "version": 3
      },
      "file_extension": ".py",
      "mimetype": "text/x-python",
      "name": "python",
      "nbconvert_exporter": "python",
      "pygments_lexer": "ipython3",
      "version": "3.6.12"
    },
    "colab": {
      "name": "Dataset Twitter.ipynb",
      "provenance": [],
      "collapsed_sections": []
    }
  },
  "nbformat": 4,
  "nbformat_minor": 0
}