{
 "cells": [
  {
   "cell_type": "code",
   "execution_count": null,
   "metadata": {
    "id": "_hpKdd9VGcPK"
   },
   "outputs": [],
   "source": [
    "import pandas as pd"
   ]
  },
  {
   "cell_type": "code",
   "execution_count": null,
   "metadata": {
    "id": "ocdKdCLhGd0X"
   },
   "outputs": [],
   "source": [
    "df = pd.read_csv('/content/dataset_FinalVersion.csv')"
   ]
  },
  {
   "cell_type": "code",
   "execution_count": null,
   "metadata": {
    "id": "aTsS6x7TGsTz"
   },
   "outputs": [],
   "source": [
    "df"
   ]
  },
  {
   "cell_type": "code",
   "execution_count": null,
   "metadata": {
    "id": "3bEAPDv_GjwC"
   },
   "outputs": [],
   "source": [
    "df['word_count'] = df['headlines'].str.split().str.len()"
   ]
  },
  {
   "cell_type": "code",
   "execution_count": null,
   "metadata": {
    "id": "WCkpAU5LG8qE"
   },
   "outputs": [],
   "source": [
    "df['headline_len'] = df['headlines'].str.len()"
   ]
  },
  {
   "cell_type": "code",
   "execution_count": null,
   "metadata": {
    "id": "1AH5QBOjHP9q"
   },
   "outputs": [],
   "source": [
    "import matplotlib.pyplot as plt\n",
    "#import matplotlib.pyplot as plt\n",
    "#plt.rcParams[\"figure.figsize\"] = (12,9)\n",
    "\n",
    "df.hist(column='word_count')\n",
    "\n",
    "plt.xticks(range(0,30,5))\n",
    "plt.title('')\n",
    "plt.xlabel('Number of words in sentence')\n",
    "plt.ylabel('Number of sentences')"
   ]
  },
  {
   "cell_type": "code",
   "execution_count": null,
   "metadata": {
    "id": "JAH06kp8HWmP"
   },
   "outputs": [],
   "source": [
    "plt.rcParams[\"figure.figsize\"] = (9.6,4.8)\n",
    "\n",
    "df.hist(column='headline_len')\n",
    "\n",
    "plt.xticks(range(0,155,5))\n",
    "plt.title('')\n",
    "plt.xlabel('String length in sentence')\n",
    "plt.ylabel('Number of sentences')"
   ]
  },
  {
   "cell_type": "code",
   "execution_count": null,
   "metadata": {
    "id": "__fydAEKLPth"
   },
   "outputs": [],
   "source": [
    "round(df.headline_len.mean())"
   ]
  }
 ],
 "metadata": {
  "colab": {
   "name": "Untitled19.ipynb",
   "provenance": []
  },
  "kernelspec": {
   "display_name": "Python 3",
   "language": "python",
   "name": "python3"
  },
  "language_info": {
   "codemirror_mode": {
    "name": "ipython",
    "version": 3
   },
   "file_extension": ".py",
   "mimetype": "text/x-python",
   "name": "python",
   "nbconvert_exporter": "python",
   "pygments_lexer": "ipython3",
   "version": "3.6.12"
  }
 },
 "nbformat": 4,
 "nbformat_minor": 1
}
