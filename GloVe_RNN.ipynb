{
 "cells": [
  {
   "cell_type": "code",
   "execution_count": null,
   "metadata": {
    "execution": {
     "iopub.execute_input": "2021-11-23T17:39:47.668458Z",
     "iopub.status.busy": "2021-11-23T17:39:47.668035Z",
     "iopub.status.idle": "2021-11-23T17:39:52.4161Z",
     "shell.execute_reply": "2021-11-23T17:39:52.415139Z",
     "shell.execute_reply.started": "2021-11-23T17:39:47.668368Z"
    }
   },
   "outputs": [],
   "source": [
    "import os\n",
    "import numpy as np\n",
    "from numpy.random import seed\n",
    "seed(42)\n",
    "rng = np.random.RandomState(42)\n",
    "import tensorflow\n",
    "tensorflow.random.set_seed(42)\n",
    "os.environ['TF_DETERMINISTIC_OPS'] = '1'"
   ]
  },
  {
   "cell_type": "code",
   "execution_count": null,
   "metadata": {
    "execution": {
     "iopub.execute_input": "2021-11-23T17:39:52.422952Z",
     "iopub.status.busy": "2021-11-23T17:39:52.420813Z",
     "iopub.status.idle": "2021-11-23T17:42:37.256439Z",
     "shell.execute_reply": "2021-11-23T17:42:37.25539Z",
     "shell.execute_reply.started": "2021-11-23T17:39:52.422896Z"
    }
   },
   "outputs": [],
   "source": [
    "!wget http://nlp.stanford.edu/data/glove.6B.zip"
   ]
  },
  {
   "cell_type": "code",
   "execution_count": null,
   "metadata": {
    "execution": {
     "iopub.execute_input": "2021-11-23T17:42:37.264298Z",
     "iopub.status.busy": "2021-11-23T17:42:37.262069Z",
     "iopub.status.idle": "2021-11-23T17:42:58.59629Z",
     "shell.execute_reply": "2021-11-23T17:42:58.59514Z",
     "shell.execute_reply.started": "2021-11-23T17:42:37.264256Z"
    }
   },
   "outputs": [],
   "source": [
    "!unzip glove.6B.zip -d glove"
   ]
  },
  {
   "cell_type": "code",
   "execution_count": null,
   "metadata": {
    "execution": {
     "iopub.execute_input": "2021-11-23T17:42:58.598999Z",
     "iopub.status.busy": "2021-11-23T17:42:58.598712Z",
     "iopub.status.idle": "2021-11-23T17:43:09.980497Z",
     "shell.execute_reply": "2021-11-23T17:43:09.979539Z",
     "shell.execute_reply.started": "2021-11-23T17:42:58.598955Z"
    }
   },
   "outputs": [],
   "source": [
    "!pip install keras -U"
   ]
  },
  {
   "cell_type": "code",
   "execution_count": null,
   "metadata": {
    "execution": {
     "iopub.execute_input": "2021-11-23T17:43:09.982613Z",
     "iopub.status.busy": "2021-11-23T17:43:09.982244Z",
     "iopub.status.idle": "2021-11-23T17:43:20.390817Z",
     "shell.execute_reply": "2021-11-23T17:43:20.389835Z",
     "shell.execute_reply.started": "2021-11-23T17:43:09.982571Z"
    }
   },
   "outputs": [],
   "source": [
    "!pip install tensorflow-addons tensorflow-determinism"
   ]
  },
  {
   "cell_type": "code",
   "execution_count": null,
   "metadata": {
    "execution": {
     "iopub.execute_input": "2021-11-23T17:43:20.393163Z",
     "iopub.status.busy": "2021-11-23T17:43:20.392423Z",
     "iopub.status.idle": "2021-11-23T17:43:21.361575Z",
     "shell.execute_reply": "2021-11-23T17:43:21.360493Z",
     "shell.execute_reply.started": "2021-11-23T17:43:20.393116Z"
    }
   },
   "outputs": [],
   "source": [
    "import pandas as pd\n",
    "from tensorflow.keras.preprocessing.text import Tokenizer\n",
    "from tensorflow.keras.preprocessing.sequence import pad_sequences\n",
    "from sklearn.preprocessing import LabelEncoder\n",
    "from tensorflow_addons.optimizers import AdamW\n",
    "from tensorflow.keras.layers import Layer, Embedding, Input, Dropout, Bidirectional, LSTM, Flatten, Dense\n",
    "#from tensorflow.compat.v1.keras.layers import CuDNNLSTM\n",
    "from tensorflow.keras.models import Model\n",
    "from tensorflow.keras.utils import plot_model\n",
    "from sklearn.model_selection import StratifiedKFold\n",
    "from sklearn.utils.class_weight import compute_class_weight\n",
    "from sklearn.metrics import confusion_matrix, matthews_corrcoef, f1_score, precision_score, recall_score, balanced_accuracy_score\n",
    "from imblearn.metrics import specificity_score"
   ]
  },
  {
   "cell_type": "code",
   "execution_count": null,
   "metadata": {
    "execution": {
     "iopub.execute_input": "2021-11-23T17:43:21.36825Z",
     "iopub.status.busy": "2021-11-23T17:43:21.365983Z",
     "iopub.status.idle": "2021-11-23T17:43:21.425573Z",
     "shell.execute_reply": "2021-11-23T17:43:21.424605Z",
     "shell.execute_reply.started": "2021-11-23T17:43:21.368211Z"
    }
   },
   "outputs": [],
   "source": [
    "data = pd.read_csv('../input/financialphrasesemevalfiqa/title-sentiment.csv',encoding='latin-1')"
   ]
  },
  {
   "cell_type": "code",
   "execution_count": null,
   "metadata": {
    "execution": {
     "iopub.execute_input": "2021-11-23T17:43:21.43319Z",
     "iopub.status.busy": "2021-11-23T17:43:21.431161Z",
     "iopub.status.idle": "2021-11-23T17:43:21.469639Z",
     "shell.execute_reply": "2021-11-23T17:43:21.468848Z",
     "shell.execute_reply.started": "2021-11-23T17:43:21.433147Z"
    }
   },
   "outputs": [],
   "source": [
    "data"
   ]
  },
  {
   "cell_type": "code",
   "execution_count": null,
   "metadata": {
    "execution": {
     "iopub.execute_input": "2021-11-23T17:43:21.476045Z",
     "iopub.status.busy": "2021-11-23T17:43:21.473997Z",
     "iopub.status.idle": "2021-11-23T17:43:21.492498Z",
     "shell.execute_reply": "2021-11-23T17:43:21.491398Z",
     "shell.execute_reply.started": "2021-11-23T17:43:21.476008Z"
    }
   },
   "outputs": [],
   "source": [
    "data['sentiment'].value_counts()"
   ]
  },
  {
   "cell_type": "code",
   "execution_count": null,
   "metadata": {
    "execution": {
     "iopub.execute_input": "2021-11-23T17:43:21.498088Z",
     "iopub.status.busy": "2021-11-23T17:43:21.496093Z",
     "iopub.status.idle": "2021-11-23T17:43:21.508Z",
     "shell.execute_reply": "2021-11-23T17:43:21.506754Z",
     "shell.execute_reply.started": "2021-11-23T17:43:21.498049Z"
    }
   },
   "outputs": [],
   "source": [
    "data.title = data.title.astype(str)\n",
    "data.sentiment = data.sentiment.astype(str)"
   ]
  },
  {
   "cell_type": "code",
   "execution_count": null,
   "metadata": {
    "execution": {
     "iopub.execute_input": "2021-11-23T17:43:21.51434Z",
     "iopub.status.busy": "2021-11-23T17:43:21.512243Z",
     "iopub.status.idle": "2021-11-23T17:43:21.658182Z",
     "shell.execute_reply": "2021-11-23T17:43:21.657173Z",
     "shell.execute_reply.started": "2021-11-23T17:43:21.514291Z"
    }
   },
   "outputs": [],
   "source": [
    "data['title'] = data['title'].str.replace(r'[^\\w\\s]+', '')\n",
    "data['title'] = data['title'].str.replace('\\s+', ' ', regex=True)"
   ]
  },
  {
   "cell_type": "code",
   "execution_count": null,
   "metadata": {
    "execution": {
     "iopub.execute_input": "2021-11-23T17:43:21.659943Z",
     "iopub.status.busy": "2021-11-23T17:43:21.659472Z",
     "iopub.status.idle": "2021-11-23T17:43:21.670056Z",
     "shell.execute_reply": "2021-11-23T17:43:21.669247Z",
     "shell.execute_reply.started": "2021-11-23T17:43:21.659907Z"
    }
   },
   "outputs": [],
   "source": [
    "data['seq_length'] = data.title.apply(lambda x: len(x))"
   ]
  },
  {
   "cell_type": "code",
   "execution_count": null,
   "metadata": {
    "execution": {
     "iopub.execute_input": "2021-11-23T17:43:21.671708Z",
     "iopub.status.busy": "2021-11-23T17:43:21.671361Z",
     "iopub.status.idle": "2021-11-23T17:43:22.05371Z",
     "shell.execute_reply": "2021-11-23T17:43:22.052822Z",
     "shell.execute_reply.started": "2021-11-23T17:43:21.671673Z"
    }
   },
   "outputs": [],
   "source": [
    "data.seq_length.hist()"
   ]
  },
  {
   "cell_type": "code",
   "execution_count": null,
   "metadata": {
    "execution": {
     "iopub.execute_input": "2021-11-23T17:43:22.055735Z",
     "iopub.status.busy": "2021-11-23T17:43:22.055148Z",
     "iopub.status.idle": "2021-11-23T17:43:22.065801Z",
     "shell.execute_reply": "2021-11-23T17:43:22.065001Z",
     "shell.execute_reply.started": "2021-11-23T17:43:22.055697Z"
    }
   },
   "outputs": [],
   "source": [
    "data['title'] = data['title'].str.lower()"
   ]
  },
  {
   "cell_type": "code",
   "execution_count": null,
   "metadata": {
    "execution": {
     "iopub.execute_input": "2021-11-23T17:43:22.067771Z",
     "iopub.status.busy": "2021-11-23T17:43:22.067206Z",
     "iopub.status.idle": "2021-11-23T17:43:22.072831Z",
     "shell.execute_reply": "2021-11-23T17:43:22.071558Z",
     "shell.execute_reply.started": "2021-11-23T17:43:22.067732Z"
    }
   },
   "outputs": [],
   "source": [
    "X = data['title'].to_numpy()"
   ]
  },
  {
   "cell_type": "code",
   "execution_count": null,
   "metadata": {
    "execution": {
     "iopub.execute_input": "2021-11-23T17:43:22.074986Z",
     "iopub.status.busy": "2021-11-23T17:43:22.07457Z",
     "iopub.status.idle": "2021-11-23T17:43:22.081705Z",
     "shell.execute_reply": "2021-11-23T17:43:22.08081Z",
     "shell.execute_reply.started": "2021-11-23T17:43:22.07495Z"
    }
   },
   "outputs": [],
   "source": [
    "MAX_NB_WORDS = 12697\n",
    "MAX_SEQUENCE_LENGTH = 225"
   ]
  },
  {
   "cell_type": "code",
   "execution_count": null,
   "metadata": {
    "execution": {
     "iopub.execute_input": "2021-11-23T17:43:22.084744Z",
     "iopub.status.busy": "2021-11-23T17:43:22.08402Z",
     "iopub.status.idle": "2021-11-23T17:43:22.221981Z",
     "shell.execute_reply": "2021-11-23T17:43:22.221161Z",
     "shell.execute_reply.started": "2021-11-23T17:43:22.084585Z"
    }
   },
   "outputs": [],
   "source": [
    "tokenizer = Tokenizer(num_words=MAX_NB_WORDS,split=' ')\n",
    "tokenizer.fit_on_texts(X)"
   ]
  },
  {
   "cell_type": "code",
   "execution_count": null,
   "metadata": {
    "execution": {
     "iopub.execute_input": "2021-11-23T17:43:22.224673Z",
     "iopub.status.busy": "2021-11-23T17:43:22.224177Z",
     "iopub.status.idle": "2021-11-23T17:43:22.376214Z",
     "shell.execute_reply": "2021-11-23T17:43:22.375231Z",
     "shell.execute_reply.started": "2021-11-23T17:43:22.224635Z"
    }
   },
   "outputs": [],
   "source": [
    "X = tokenizer.texts_to_sequences(X)\n",
    "X = pad_sequences(X, maxlen=MAX_SEQUENCE_LENGTH)"
   ]
  },
  {
   "cell_type": "code",
   "execution_count": null,
   "metadata": {
    "execution": {
     "iopub.execute_input": "2021-11-23T17:43:22.378027Z",
     "iopub.status.busy": "2021-11-23T17:43:22.377652Z",
     "iopub.status.idle": "2021-11-23T17:43:22.383571Z",
     "shell.execute_reply": "2021-11-23T17:43:22.38236Z",
     "shell.execute_reply.started": "2021-11-23T17:43:22.377988Z"
    }
   },
   "outputs": [],
   "source": [
    "word_index = tokenizer.word_index\n",
    "print('%s unique tokens.' % len(word_index))"
   ]
  },
  {
   "cell_type": "code",
   "execution_count": null,
   "metadata": {
    "execution": {
     "iopub.execute_input": "2021-11-23T17:43:22.38575Z",
     "iopub.status.busy": "2021-11-23T17:43:22.38514Z",
     "iopub.status.idle": "2021-11-23T17:43:22.397628Z",
     "shell.execute_reply": "2021-11-23T17:43:22.396569Z",
     "shell.execute_reply.started": "2021-11-23T17:43:22.385713Z"
    }
   },
   "outputs": [],
   "source": [
    "encoder = LabelEncoder()\n",
    "Y = encoder.fit_transform(data['sentiment'])"
   ]
  },
  {
   "cell_type": "code",
   "execution_count": null,
   "metadata": {
    "execution": {
     "iopub.execute_input": "2021-11-23T17:43:22.399417Z",
     "iopub.status.busy": "2021-11-23T17:43:22.398956Z",
     "iopub.status.idle": "2021-11-23T17:43:22.408913Z",
     "shell.execute_reply": "2021-11-23T17:43:22.407836Z",
     "shell.execute_reply.started": "2021-11-23T17:43:22.399379Z"
    }
   },
   "outputs": [],
   "source": [
    "encoder.classes_"
   ]
  },
  {
   "cell_type": "code",
   "execution_count": null,
   "metadata": {
    "execution": {
     "iopub.execute_input": "2021-11-23T17:43:22.410959Z",
     "iopub.status.busy": "2021-11-23T17:43:22.410591Z",
     "iopub.status.idle": "2021-11-23T17:44:06.106814Z",
     "shell.execute_reply": "2021-11-23T17:44:06.105888Z",
     "shell.execute_reply.started": "2021-11-23T17:43:22.410924Z"
    }
   },
   "outputs": [],
   "source": [
    "embeddings_index = dict()\n",
    "f = open('./glove/glove.6B.300d.txt')\n",
    "for line in f:\n",
    "\tvalues = line.split()\n",
    "\tword = values[0]\n",
    "\tcoefs = np.asarray(values[1:], dtype='float32')\n",
    "\tembeddings_index[word] = coefs\n",
    "f.close()"
   ]
  },
  {
   "cell_type": "code",
   "execution_count": null,
   "metadata": {
    "execution": {
     "iopub.execute_input": "2021-11-23T17:44:06.110935Z",
     "iopub.status.busy": "2021-11-23T17:44:06.110666Z",
     "iopub.status.idle": "2021-11-23T17:44:06.117291Z",
     "shell.execute_reply": "2021-11-23T17:44:06.116206Z",
     "shell.execute_reply.started": "2021-11-23T17:44:06.110907Z"
    }
   },
   "outputs": [],
   "source": [
    "print('Total: %s word vectors.' % len(embeddings_index))"
   ]
  },
  {
   "cell_type": "code",
   "execution_count": null,
   "metadata": {
    "execution": {
     "iopub.execute_input": "2021-11-23T17:44:06.119925Z",
     "iopub.status.busy": "2021-11-23T17:44:06.119511Z",
     "iopub.status.idle": "2021-11-23T17:44:06.127715Z",
     "shell.execute_reply": "2021-11-23T17:44:06.126674Z",
     "shell.execute_reply.started": "2021-11-23T17:44:06.11989Z"
    }
   },
   "outputs": [],
   "source": [
    "vocab_size = len(tokenizer.word_index) + 1\n",
    "print (vocab_size)"
   ]
  },
  {
   "cell_type": "code",
   "execution_count": null,
   "metadata": {
    "execution": {
     "iopub.execute_input": "2021-11-23T17:44:06.129624Z",
     "iopub.status.busy": "2021-11-23T17:44:06.129236Z",
     "iopub.status.idle": "2021-11-23T17:44:06.174343Z",
     "shell.execute_reply": "2021-11-23T17:44:06.173511Z",
     "shell.execute_reply.started": "2021-11-23T17:44:06.129566Z"
    }
   },
   "outputs": [],
   "source": [
    "# create weight matrix\n",
    "embedding_matrix = np.zeros((vocab_size, 300))\n",
    "for word, i in tokenizer.word_index.items():\n",
    "\tembedding_vector = embeddings_index.get(word)\n",
    "\tif embedding_vector is not None:\n",
    "\t\tembedding_matrix[i] = embedding_vector"
   ]
  },
  {
   "cell_type": "code",
   "execution_count": null,
   "metadata": {
    "execution": {
     "iopub.execute_input": "2021-11-23T17:44:06.176171Z",
     "iopub.status.busy": "2021-11-23T17:44:06.175604Z",
     "iopub.status.idle": "2021-11-23T17:44:06.183655Z",
     "shell.execute_reply": "2021-11-23T17:44:06.182717Z",
     "shell.execute_reply.started": "2021-11-23T17:44:06.176134Z"
    }
   },
   "outputs": [],
   "source": [
    "embedding_matrix"
   ]
  },
  {
   "cell_type": "code",
   "execution_count": null,
   "metadata": {
    "execution": {
     "iopub.execute_input": "2021-11-23T17:44:06.185879Z",
     "iopub.status.busy": "2021-11-23T17:44:06.185075Z",
     "iopub.status.idle": "2021-11-23T17:44:06.194374Z",
     "shell.execute_reply": "2021-11-23T17:44:06.19337Z",
     "shell.execute_reply.started": "2021-11-23T17:44:06.185834Z"
    }
   },
   "outputs": [],
   "source": [
    "embedding_matrix.shape"
   ]
  },
  {
   "cell_type": "code",
   "execution_count": null,
   "metadata": {
    "execution": {
     "iopub.execute_input": "2021-11-23T17:44:06.19584Z",
     "iopub.status.busy": "2021-11-23T17:44:06.195539Z",
     "iopub.status.idle": "2021-11-23T17:44:06.215015Z",
     "shell.execute_reply": "2021-11-23T17:44:06.214306Z",
     "shell.execute_reply.started": "2021-11-23T17:44:06.195812Z"
    }
   },
   "outputs": [],
   "source": [
    "embedding_layer = Embedding(vocab_size, 300, weights=[embedding_matrix], input_length=(MAX_SEQUENCE_LENGTH,), trainable=False)"
   ]
  },
  {
   "cell_type": "code",
   "execution_count": null,
   "metadata": {
    "execution": {
     "iopub.execute_input": "2021-11-23T17:44:06.216932Z",
     "iopub.status.busy": "2021-11-23T17:44:06.216358Z",
     "iopub.status.idle": "2021-11-23T17:44:06.221952Z",
     "shell.execute_reply": "2021-11-23T17:44:06.221162Z",
     "shell.execute_reply.started": "2021-11-23T17:44:06.216894Z"
    }
   },
   "outputs": [],
   "source": [
    "custom_adam = AdamW(weight_decay=0.0,learning_rate=1e-5, epsilon=1e-8)"
   ]
  },
  {
   "cell_type": "markdown",
   "metadata": {},
   "source": [
    "Definições para uso do mecanismo de Atenção nas RNNs"
   ]
  },
  {
   "cell_type": "code",
   "execution_count": null,
   "metadata": {
    "execution": {
     "iopub.execute_input": "2021-11-23T17:44:06.223854Z",
     "iopub.status.busy": "2021-11-23T17:44:06.22349Z",
     "iopub.status.idle": "2021-11-23T17:44:06.2462Z",
     "shell.execute_reply": "2021-11-23T17:44:06.245131Z",
     "shell.execute_reply.started": "2021-11-23T17:44:06.223818Z"
    }
   },
   "outputs": [],
   "source": [
    "import tensorflow.keras.backend as K\n",
    "from tensorflow.keras import regularizers, constraints, initializers\n",
    "\n",
    "def dot_product(x, kernel):\n",
    "    \"\"\"\n",
    "    Wrapper for dot product operation, in order to be compatible with both\n",
    "    Theano and Tensorflow\n",
    "    Args:\n",
    "        x (): input\n",
    "        kernel (): weights\n",
    "    Returns:\n",
    "    \"\"\"\n",
    "    if K.backend() == 'tensorflow':\n",
    "        return K.squeeze(K.dot(x, K.expand_dims(kernel)), axis=-1)\n",
    "    else:\n",
    "        return K.dot(x, kernel)\n",
    "\n",
    "\n",
    "class AttentionWithContext(Layer):\n",
    "    \"\"\"\n",
    "    Attention operation, with a context/query vector, for temporal data.\n",
    "    Supports Masking.\n",
    "    Follows the work of Yang et al. [https://www.cc.gatech.edu/~dyang888/docs/naacl16.pdf]\n",
    "    \"Hierarchical Attention Networks for Document Classification\"\n",
    "    by using a context vector to assist the attention\n",
    "    # Input shape\n",
    "        3D tensor with shape: `(samples, steps, features)`.\n",
    "    # Output shape\n",
    "        2D tensor with shape: `(samples, features)`.\n",
    "    How to use:\n",
    "    Just put it on top of an RNN Layer (GRU/LSTM/SimpleRNN) with return_sequences=True.\n",
    "    The dimensions are inferred based on the output shape of the RNN.\n",
    "    Note: The layer has been tested with Keras 2.0.6\n",
    "    Example:\n",
    "        model.add(LSTM(64, return_sequences=True))\n",
    "        model.add(AttentionWithContext())\n",
    "        # next add a Dense layer (for classification/regression) or whatever...\n",
    "    \"\"\"\n",
    "\n",
    "    def __init__(self,\n",
    "                 W_regularizer=None, u_regularizer=None, b_regularizer=None,\n",
    "                 W_constraint=None, u_constraint=None, b_constraint=None,\n",
    "                 bias=True, **kwargs):\n",
    "\n",
    "        self.supports_masking = True\n",
    "        self.init = initializers.get('glorot_uniform')\n",
    "\n",
    "        self.W_regularizer = regularizers.get(W_regularizer)\n",
    "        self.u_regularizer = regularizers.get(u_regularizer)\n",
    "        self.b_regularizer = regularizers.get(b_regularizer)\n",
    "\n",
    "        self.W_constraint = constraints.get(W_constraint)\n",
    "        self.u_constraint = constraints.get(u_constraint)\n",
    "        self.b_constraint = constraints.get(b_constraint)\n",
    "\n",
    "        self.bias = bias\n",
    "        super(AttentionWithContext, self).__init__(**kwargs)\n",
    "\n",
    "    def build(self, input_shape):\n",
    "        assert len(input_shape) == 3\n",
    "\n",
    "        self.W = self.add_weight(shape=(input_shape[-1], input_shape[-1],),\n",
    "                                 initializer=self.init,\n",
    "                                 name='{}_W'.format(self.name),\n",
    "                                 regularizer=self.W_regularizer,\n",
    "                                 constraint=self.W_constraint)\n",
    "        if self.bias:\n",
    "            self.b = self.add_weight(shape=(input_shape[-1],),\n",
    "                                     initializer='zero',\n",
    "                                     name='{}_b'.format(self.name),\n",
    "                                     regularizer=self.b_regularizer,\n",
    "                                     constraint=self.b_constraint)\n",
    "\n",
    "        self.u = self.add_weight(shape=(input_shape[-1],),\n",
    "                                 initializer=self.init,\n",
    "                                 name='{}_u'.format(self.name),\n",
    "                                 regularizer=self.u_regularizer,\n",
    "                                 constraint=self.u_constraint)\n",
    "\n",
    "        super(AttentionWithContext, self).build(input_shape)\n",
    "\n",
    "    def compute_mask(self, input, input_mask=None):\n",
    "        # do not pass the mask to the next layers\n",
    "        return None\n",
    "\n",
    "    def call(self, x, mask=None):\n",
    "        uit = dot_product(x, self.W)\n",
    "\n",
    "        if self.bias:\n",
    "            uit += self.b\n",
    "\n",
    "        uit = K.tanh(uit)\n",
    "        ait = dot_product(uit, self.u)\n",
    "\n",
    "        a = K.exp(ait)\n",
    "\n",
    "        # apply mask after the exp. will be re-normalized next\n",
    "        if mask is not None:\n",
    "            # Cast the mask to floatX to avoid float64 upcasting in theano\n",
    "            a *= K.cast(mask, K.floatx())\n",
    "\n",
    "        # in some cases especially in the early stages of training the sum may be almost zero\n",
    "        # and this results in NaN's. A workaround is to add a very small positive number ε to the sum.\n",
    "        # a /= K.cast(K.sum(a, axis=1, keepdims=True), K.floatx())\n",
    "        a /= K.cast(K.sum(a, axis=1, keepdims=True) + K.epsilon(), K.floatx())\n",
    "\n",
    "        a = K.expand_dims(a)\n",
    "        weighted_input = x * a\n",
    "        return K.sum(weighted_input, axis=1)\n",
    "\n",
    "    def compute_output_shape(self, input_shape):\n",
    "        return input_shape[0], input_shape[-1]"
   ]
  },
  {
   "cell_type": "markdown",
   "metadata": {},
   "source": [
    "Definição da RNN (pode ser alterada para definir outras arquiteturas, como LSTMs bidirecionais, GRUs, Convnets, etc)"
   ]
  },
  {
   "cell_type": "code",
   "execution_count": null,
   "metadata": {
    "execution": {
     "iopub.execute_input": "2021-11-23T17:44:06.248556Z",
     "iopub.status.busy": "2021-11-23T17:44:06.247814Z",
     "iopub.status.idle": "2021-11-23T17:44:06.260258Z",
     "shell.execute_reply": "2021-11-23T17:44:06.259288Z",
     "shell.execute_reply.started": "2021-11-23T17:44:06.248512Z"
    }
   },
   "outputs": [],
   "source": [
    "def bilstm_model(input_shape):\n",
    "  X_indices = Input(input_shape)\n",
    "  embeddings = embedding_layer(X_indices)\n",
    "  #X = Dropout(0.5)(embeddings)\n",
    "  X = Bidirectional(LSTM(100, return_sequences=True))(embeddings)\n",
    "  #X = Bidirectional(LSTM(100, return_sequences=False))(embeddings) #Sem Attention\n",
    "  X = AttentionWithContext()(X)\n",
    "  X = Dense(3, activation='softmax')(X)\n",
    "  model = Model(inputs=X_indices, outputs=X)\n",
    "  \n",
    "  model.summary()\n",
    "  plot_model(model, to_file='model_plot.png', show_shapes=True, show_layer_names=True)\n",
    "    \n",
    "  return model"
   ]
  },
  {
   "cell_type": "markdown",
   "metadata": {},
   "source": [
    "Treinamento da RNN com 10-fold cross-validation e obtenção dos valores de benchmarking do modelo"
   ]
  },
  {
   "cell_type": "code",
   "execution_count": null,
   "metadata": {
    "execution": {
     "iopub.execute_input": "2021-11-23T17:44:06.263976Z",
     "iopub.status.busy": "2021-11-23T17:44:06.263688Z",
     "iopub.status.idle": "2021-11-23T17:51:55.944175Z",
     "shell.execute_reply": "2021-11-23T17:51:55.94306Z",
     "shell.execute_reply.started": "2021-11-23T17:44:06.263945Z"
    }
   },
   "outputs": [],
   "source": [
    "bilstm_mcc = []\n",
    "bilstm_f1 = []\n",
    "bilstm_precision = []\n",
    "bilstm_recall = []\n",
    "bilstm_bacc = []\n",
    "bilstm_spec = []\n",
    "\n",
    "fold = 1\n",
    "\n",
    "skf = StratifiedKFold(n_splits=10, random_state=rng, shuffle=True)\n",
    "for train_index, test_index in skf.split(X, Y):\n",
    "    model_bilstm = bilstm_model((MAX_SEQUENCE_LENGTH,))\n",
    "    model_bilstm.compile(optimizer=custom_adam,loss='sparse_categorical_crossentropy',metrics=['acc'])\n",
    "\n",
    "    X_train, X_test = X[train_index], X[test_index]\n",
    "    y_train, y_test = Y[train_index], Y[test_index]\n",
    "    \n",
    "    class_weights = compute_class_weight('balanced', np.unique(y_train), y_train)\n",
    "    weight = {i : class_weights[i] for i in range(3)}\n",
    "    \n",
    "    model_bilstm.fit(X_train,y_train,epochs=10,verbose=1,batch_size=32, class_weight=weight)\n",
    "\n",
    "    y_pred = model_bilstm.predict(X_test, batch_size=32)\n",
    "    preds = np.argmax(y_pred, axis = 1)\n",
    "    \n",
    "    cnf_mtx = confusion_matrix(y_test, preds)\n",
    "    print(\"Fold #%i Confusion Matrix:\" % fold)\n",
    "    print(cnf_mtx)\n",
    "    \n",
    "    bilstm_mcc.append(matthews_corrcoef(y_test, preds))\n",
    "    bilstm_f1.append(f1_score(y_test, preds, average='weighted'))\n",
    "    bilstm_precision.append(precision_score(y_test, preds, average='weighted'))\n",
    "    bilstm_recall.append(recall_score(y_test, preds, average='weighted'))\n",
    "    bilstm_bacc.append(balanced_accuracy_score(y_test, preds))\n",
    "    bilstm_spec.append(specificity_score(y_test, preds, average='weighted'))\n",
    "    fold += 1"
   ]
  },
  {
   "cell_type": "code",
   "execution_count": null,
   "metadata": {
    "execution": {
     "iopub.execute_input": "2021-11-23T17:51:55.94593Z",
     "iopub.status.busy": "2021-11-23T17:51:55.945606Z",
     "iopub.status.idle": "2021-11-23T17:51:55.95269Z",
     "shell.execute_reply": "2021-11-23T17:51:55.951525Z",
     "shell.execute_reply.started": "2021-11-23T17:51:55.945897Z"
    }
   },
   "outputs": [],
   "source": [
    "print(f\"Mean-MCC: {sum(bilstm_mcc) / len(bilstm_mcc):.4f}\")"
   ]
  },
  {
   "cell_type": "code",
   "execution_count": null,
   "metadata": {
    "execution": {
     "iopub.execute_input": "2021-11-23T17:51:55.955028Z",
     "iopub.status.busy": "2021-11-23T17:51:55.954455Z",
     "iopub.status.idle": "2021-11-23T17:51:55.961439Z",
     "shell.execute_reply": "2021-11-23T17:51:55.960588Z",
     "shell.execute_reply.started": "2021-11-23T17:51:55.954992Z"
    }
   },
   "outputs": [],
   "source": [
    "print(f\"Mean-F1: {sum(bilstm_f1) / len(bilstm_f1):.4f}\")"
   ]
  },
  {
   "cell_type": "code",
   "execution_count": null,
   "metadata": {
    "execution": {
     "iopub.execute_input": "2021-11-23T17:51:55.963177Z",
     "iopub.status.busy": "2021-11-23T17:51:55.962838Z",
     "iopub.status.idle": "2021-11-23T17:51:55.970233Z",
     "shell.execute_reply": "2021-11-23T17:51:55.969139Z",
     "shell.execute_reply.started": "2021-11-23T17:51:55.963142Z"
    }
   },
   "outputs": [],
   "source": [
    "print(f\"Mean-Precision: {sum(bilstm_precision) / len(bilstm_precision):.4f}\")"
   ]
  },
  {
   "cell_type": "code",
   "execution_count": null,
   "metadata": {
    "execution": {
     "iopub.execute_input": "2021-11-23T17:51:55.972166Z",
     "iopub.status.busy": "2021-11-23T17:51:55.971795Z",
     "iopub.status.idle": "2021-11-23T17:51:55.978976Z",
     "shell.execute_reply": "2021-11-23T17:51:55.977577Z",
     "shell.execute_reply.started": "2021-11-23T17:51:55.972133Z"
    }
   },
   "outputs": [],
   "source": [
    "print(f\"Mean-Recall: {sum(bilstm_recall) / len(bilstm_recall):.4f}\")"
   ]
  },
  {
   "cell_type": "code",
   "execution_count": null,
   "metadata": {
    "execution": {
     "iopub.execute_input": "2021-11-23T17:51:55.982165Z",
     "iopub.status.busy": "2021-11-23T17:51:55.981402Z",
     "iopub.status.idle": "2021-11-23T17:51:55.987985Z",
     "shell.execute_reply": "2021-11-23T17:51:55.986871Z",
     "shell.execute_reply.started": "2021-11-23T17:51:55.982038Z"
    }
   },
   "outputs": [],
   "source": [
    "print(f\"Mean-BACC: {sum(bilstm_bacc) / len(bilstm_bacc):.4f}\")"
   ]
  },
  {
   "cell_type": "code",
   "execution_count": null,
   "metadata": {
    "execution": {
     "iopub.execute_input": "2021-11-23T17:51:55.990406Z",
     "iopub.status.busy": "2021-11-23T17:51:55.989692Z",
     "iopub.status.idle": "2021-11-23T17:51:55.996941Z",
     "shell.execute_reply": "2021-11-23T17:51:55.995849Z",
     "shell.execute_reply.started": "2021-11-23T17:51:55.990368Z"
    }
   },
   "outputs": [],
   "source": [
    "print(f\"Mean-Specificity: {sum(bilstm_spec) / len(bilstm_spec):.4f}\")"
   ]
  }
 ],
 "metadata": {
  "kernelspec": {
   "display_name": "Python 3",
   "language": "python",
   "name": "python3"
  },
  "language_info": {
   "codemirror_mode": {
    "name": "ipython",
    "version": 3
   },
   "file_extension": ".py",
   "mimetype": "text/x-python",
   "name": "python",
   "nbconvert_exporter": "python",
   "pygments_lexer": "ipython3",
   "version": "3.6.12"
  }
 },
 "nbformat": 4,
 "nbformat_minor": 4
}
