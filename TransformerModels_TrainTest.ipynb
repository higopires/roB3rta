{
 "cells": [
  {
   "cell_type": "code",
   "execution_count": null,
   "metadata": {
    "id": "4r2o61hT8LHe"
   },
   "outputs": [],
   "source": [
    "!pip install simpletransformers tensorboardX emoji"
   ]
  },
  {
   "cell_type": "code",
   "execution_count": null,
   "metadata": {
    "id": "DfswJjeR2FSD"
   },
   "outputs": [],
   "source": [
    "!pip install --upgrade scikit-learn scipy matplotlib imblearn"
   ]
  },
  {
   "cell_type": "code",
   "execution_count": null,
   "metadata": {
    "id": "gYdxByMyZnGv"
   },
   "outputs": [],
   "source": [
    "#!pip3 install torch==1.9.1+cu111 torchvision==0.10.1+cu111 torchaudio==0.9.1 -f https://download.pytorch.org/whl/torch_stable.html"
   ]
  },
  {
   "cell_type": "markdown",
   "metadata": {},
   "source": [
    "Instalação do NVIDA Apex"
   ]
  },
  {
   "cell_type": "code",
   "execution_count": null,
   "metadata": {
    "id": "GnCmsNP6XpNi"
   },
   "outputs": [],
   "source": [
    "!git clone https://github.com/NVIDIA/apex"
   ]
  },
  {
   "cell_type": "code",
   "execution_count": null,
   "metadata": {
    "id": "SYXbMTdGX59F"
   },
   "outputs": [],
   "source": [
    "import os\n",
    "\n",
    "os.chdir('apex')"
   ]
  },
  {
   "cell_type": "code",
   "execution_count": null,
   "metadata": {
    "id": "M2te1MGPZS7I"
   },
   "outputs": [],
   "source": [
    "!nvcc --version"
   ]
  },
  {
   "cell_type": "code",
   "execution_count": null,
   "metadata": {
    "id": "WyotMfaxYEq9"
   },
   "outputs": [],
   "source": [
    "!pip install -v --disable-pip-version-check --no-cache-dir --global-option=\"--cpp_ext\" --global-option=\"--cuda_ext\" ./"
   ]
  },
  {
   "cell_type": "markdown",
   "metadata": {},
   "source": [
    "Bibliotecas básicas e função para determinismo (repetibilidade)"
   ]
  },
  {
   "cell_type": "code",
   "execution_count": null,
   "metadata": {
    "id": "-MATi6aO8h72"
   },
   "outputs": [],
   "source": [
    "import numpy as np\n",
    "#from numpy.random import seed\n",
    "#seed(42)\n",
    "rng = np.random.RandomState(42)\n",
    "\n",
    "import torch\n",
    "import random\n",
    "\n",
    "def set_seed(seed):\n",
    "    torch.backends.cudnn.deterministic = True\n",
    "    torch.backends.cudnn.benchmark = False\n",
    "    torch.manual_seed(seed)\n",
    "    torch.cuda.manual_seed_all(seed)\n",
    "    np.random.seed(seed)\n",
    "    random.seed(seed)\n",
    "\n",
    "set_seed(42)"
   ]
  },
  {
   "cell_type": "code",
   "execution_count": null,
   "metadata": {
    "id": "2Eks4S178kU-"
   },
   "outputs": [],
   "source": [
    "from simpletransformers.classification import ClassificationModel, ClassificationArgs\n",
    "import pandas as pd\n",
    "import logging"
   ]
  },
  {
   "cell_type": "code",
   "execution_count": null,
   "metadata": {
    "id": "_LFhs0og8qId"
   },
   "outputs": [],
   "source": [
    "logging.basicConfig(level=logging.INFO)\n",
    "transformers_logger = logging.getLogger(\"transformers\")\n",
    "transformers_logger.setLevel(logging.WARNING)"
   ]
  },
  {
   "cell_type": "code",
   "execution_count": null,
   "metadata": {
    "id": "KIuhwQoO8uaQ"
   },
   "outputs": [],
   "source": [
    "train_data = pd.read_csv('/content/dataset_FinalVersion.csv')"
   ]
  },
  {
   "cell_type": "code",
   "execution_count": null,
   "metadata": {
    "id": "vZ4eQlna9Ocf"
   },
   "outputs": [],
   "source": [
    "train_data"
   ]
  },
  {
   "cell_type": "code",
   "execution_count": null,
   "metadata": {
    "id": "Y7kQ9NT-9Q05"
   },
   "outputs": [],
   "source": [
    "train_data = train_data.drop('Unnamed: 0', axis=1)"
   ]
  },
  {
   "cell_type": "code",
   "execution_count": null,
   "metadata": {
    "id": "S0dQkinu9TBO"
   },
   "outputs": [],
   "source": [
    "train_data.columns = [\"text\", \"labels\"]"
   ]
  },
  {
   "cell_type": "code",
   "execution_count": null,
   "metadata": {
    "id": "N8ThdCcI9U_Q"
   },
   "outputs": [],
   "source": [
    "#from sklearn.preprocessing import LabelEncoder\n",
    "\n",
    "#encoder = LabelEncoder()\n",
    "#train_data['labels'] = encoder.fit_transform(train_data['labels'])"
   ]
  },
  {
   "cell_type": "code",
   "execution_count": null,
   "metadata": {
    "id": "12vEQGM79XKq"
   },
   "outputs": [],
   "source": [
    "#encoder.classes_"
   ]
  },
  {
   "cell_type": "code",
   "execution_count": null,
   "metadata": {
    "id": "sllVdZJz9ZI5"
   },
   "outputs": [],
   "source": [
    "X = train_data['text']\n",
    "Y = train_data['labels']"
   ]
  },
  {
   "cell_type": "code",
   "execution_count": null,
   "metadata": {
    "id": "BpKgExdHNSzh"
   },
   "outputs": [],
   "source": [
    "#!pip install mlrose"
   ]
  },
  {
   "cell_type": "code",
   "execution_count": null,
   "metadata": {
    "id": "BtXmuxqv9bpH"
   },
   "outputs": [],
   "source": [
    "import six\n",
    "import sys\n",
    "sys.modules['sklearn.externals.six'] = six\n",
    "import mlrose\n",
    "\n",
    "import sklearn.neighbors._base\n",
    "sys.modules['sklearn.neighbors.base'] = sklearn.neighbors._base\n",
    "\n",
    "sys.modules['sklearn.metrics.classification'] = sklearn.metrics._classification\n",
    "\n",
    "from sklearn.model_selection import StratifiedKFold\n",
    "from sklearn.utils.class_weight import compute_class_weight\n",
    "from sklearn.metrics import confusion_matrix, matthews_corrcoef, f1_score, precision_score, recall_score, balanced_accuracy_score\n",
    "from imblearn.metrics import specificity_score"
   ]
  },
  {
   "cell_type": "code",
   "execution_count": null,
   "metadata": {
    "id": "J_S7EQiD9grD"
   },
   "outputs": [],
   "source": [
    "n=10\n",
    "kf = StratifiedKFold(n_splits=n, random_state=rng, shuffle=True)"
   ]
  },
  {
   "cell_type": "code",
   "execution_count": null,
   "metadata": {
    "id": "-_mmWkPD9izc"
   },
   "outputs": [],
   "source": [
    "model_mcc = []\n",
    "model_f1 = []\n",
    "model_precision = []\n",
    "model_recall = []\n",
    "model_bacc = []\n",
    "model_spec = []"
   ]
  },
  {
   "cell_type": "code",
   "execution_count": null,
   "metadata": {
    "id": "uh6jt3DB9klR"
   },
   "outputs": [],
   "source": [
    "#class_weights = compute_class_weight(class_weight='balanced', classes=np.unique(Y), y=Y)"
   ]
  },
  {
   "cell_type": "markdown",
   "metadata": {},
   "source": [
    "Hiperparâmetros do modelo"
   ]
  },
  {
   "cell_type": "code",
   "execution_count": null,
   "metadata": {
    "id": "qyB1cVRR9muf"
   },
   "outputs": [],
   "source": [
    "model_args = ClassificationArgs()\n",
    "\n",
    "model_args.train_batch_size = 32\n",
    "model_args.eval_batch_size = 32\n",
    "model_args.learning_rate = 1e-5\n",
    "model_args.adam_epsilon = 1e-8\n",
    "model_args.num_train_epochs = 3\n",
    "model_args.overwrite_output_dir = True\n",
    "model_args.dataloader_num_workers = 0\n",
    "#model_args.gradient_accumulation_steps = 2\n",
    "model_args.fp16 = True\n",
    "#model_args.warmup_ratio = 0.1 # https://aclanthology.org/2021.acl-long.178.pdf\n",
    "\n",
    "cuda_available = torch.cuda.is_available()"
   ]
  },
  {
   "cell_type": "markdown",
   "metadata": {},
   "source": [
    "Treinamento e cross-validation"
   ]
  },
  {
   "cell_type": "code",
   "execution_count": null,
   "metadata": {
    "id": "IefPlWzy9oth"
   },
   "outputs": [],
   "source": [
    "#from sklearn.preprocessing import MultiLabelBinarizer\n",
    "\n",
    "for train_index, val_index in kf.split(X,Y):\n",
    "\n",
    "    class_weights = compute_class_weight(class_weight='balanced', classes=np.unique(train_data['labels'].iloc[train_index]), y=train_data['labels'].iloc[train_index])\n",
    "\n",
    "    print(class_weights)\n",
    "    \n",
    "    model = ClassificationModel(\"distilbert\", \"Geotrend/distilbert-base-pt-cased\", num_labels=2, args=model_args, use_cuda=cuda_available, weight=list(class_weights))\n",
    "    \n",
    "    train_df = train_data.iloc[train_index]\n",
    "    val_df = train_data.iloc[val_index]\n",
    "    \n",
    "    model.train_model(train_df)\n",
    "    \n",
    "    def mcc(y_true, y_pred):\n",
    "        #mlb = MultiLabelBinarizer()\n",
    "        return matthews_corrcoef(y_true, y_pred)\n",
    "    \n",
    "    def f1(y_true, y_pred):\n",
    "        #mlb = MultiLabelBinarizer()\n",
    "        return f1_score(y_true, y_pred, average='weighted')\n",
    "    \n",
    "    def precision(y_true, y_pred):\n",
    "        #mlb = MultiLabelBinarizer()\n",
    "        return precision_score(y_true, y_pred, average='weighted')\n",
    "    \n",
    "    def recall(y_true, y_pred):\n",
    "        #mlb = MultiLabelBinarizer()\n",
    "        return recall_score(y_true, y_pred, average='weighted')\n",
    "\n",
    "    def bacc(y_true, y_pred):\n",
    "        #mlb = MultiLabelBinarizer()\n",
    "        return balanced_accuracy_score(y_true, y_pred)\n",
    "\n",
    "    def spec(y_true, y_pred):\n",
    "        #mlb = MultiLabelBinarizer()\n",
    "        return specificity_score(y_true, y_pred, average='weighted')\n",
    "    \n",
    "    result, model_outputs, wrong_predictions = model.eval_model(val_df, mcc=mcc, f1=f1, precision=precision, recall=recall,\n",
    "                                                                bacc=bacc, spec=spec)\n",
    "    print(model_outputs)\n",
    "\n",
    "    print(result['mcc'])\n",
    "    print(result['f1'])\n",
    "    print(result['precision'])\n",
    "    print(result['recall'])\n",
    "    print(result['bacc'])\n",
    "    print(result['spec'])\n",
    "    \n",
    "    model_mcc.append(result['mcc'])\n",
    "    model_f1.append(result['f1'])\n",
    "    model_precision.append(result['precision'])\n",
    "    model_recall.append(result['recall'])\n",
    "    model_bacc.append(result['bacc'])\n",
    "    model_spec.append(result['spec'])"
   ]
  },
  {
   "cell_type": "code",
   "execution_count": null,
   "metadata": {
    "id": "aUBo2Zdb9tcJ"
   },
   "outputs": [],
   "source": [
    "print(f\"Mean-MCC: {sum(model_mcc) / len(model_mcc):.4f}\")"
   ]
  },
  {
   "cell_type": "code",
   "execution_count": null,
   "metadata": {
    "id": "5J5PKN9K9viO"
   },
   "outputs": [],
   "source": [
    "print(f\"Mean-F1: {sum(model_f1) / len(model_f1):.4f}\")"
   ]
  },
  {
   "cell_type": "code",
   "execution_count": null,
   "metadata": {
    "id": "Chy6_Ylz9yZm"
   },
   "outputs": [],
   "source": [
    "print(f\"Mean-Precision: {sum(model_precision) / len(model_precision):.4f}\")"
   ]
  },
  {
   "cell_type": "code",
   "execution_count": null,
   "metadata": {
    "id": "TnEfkUOI9zQr"
   },
   "outputs": [],
   "source": [
    "print(f\"Mean-Recall: {sum(model_recall) / len(model_recall):.4f}\")"
   ]
  },
  {
   "cell_type": "code",
   "execution_count": null,
   "metadata": {
    "id": "lB4bmJco93c5"
   },
   "outputs": [],
   "source": [
    "print(f\"Mean-BACC: {sum(model_bacc) / len(model_bacc):.4f}\")"
   ]
  },
  {
   "cell_type": "code",
   "execution_count": null,
   "metadata": {
    "id": "j1aOGYyG95cJ"
   },
   "outputs": [],
   "source": [
    "print(f\"Mean-Specificity: {sum(model_spec) / len(model_spec):.4f}\")"
   ]
  }
 ],
 "metadata": {
  "accelerator": "GPU",
  "colab": {
   "collapsed_sections": [],
   "machine_shape": "hm",
   "name": "Untitled5.ipynb",
   "provenance": []
  },
  "kernelspec": {
   "display_name": "Python 3",
   "language": "python",
   "name": "python3"
  },
  "language_info": {
   "codemirror_mode": {
    "name": "ipython",
    "version": 3
   },
   "file_extension": ".py",
   "mimetype": "text/x-python",
   "name": "python",
   "nbconvert_exporter": "python",
   "pygments_lexer": "ipython3",
   "version": "3.6.12"
  }
 },
 "nbformat": 4,
 "nbformat_minor": 1
}
