{
  "nbformat": 4,
  "nbformat_minor": 0,
  "metadata": {
    "colab": {
      "name": "Paper Dataset Generation.ipynb",
      "provenance": []
    },
    "kernelspec": {
      "name": "python3",
      "display_name": "Python 3"
    },
    "language_info": {
      "name": "python"
    }
  },
  "cells": [
    {
      "cell_type": "code",
      "metadata": {
        "id": "XHLLvhV-PlbI"
      },
      "source": [
        "import pandas as pd"
      ],
      "execution_count": null,
      "outputs": []
    },
    {
      "cell_type": "code",
      "metadata": {
        "id": "2URjAGcHPoO1"
      },
      "source": [
        "df1 = pd.read_csv('/content/SemEval 2017 Task 5 - Subtask 2.csv')"
      ],
      "execution_count": null,
      "outputs": []
    },
    {
      "cell_type": "code",
      "metadata": {
        "id": "zDxawnE6PyqM"
      },
      "source": [
        "df1"
      ],
      "execution_count": null,
      "outputs": []
    },
    {
      "cell_type": "code",
      "metadata": {
        "id": "4-W6R1ocP1Bu"
      },
      "source": [
        "df2 = pd.read_csv('/content/fiqadataset.csv')"
      ],
      "execution_count": null,
      "outputs": []
    },
    {
      "cell_type": "code",
      "metadata": {
        "id": "z2X6uHl0P5zV"
      },
      "source": [
        "df2"
      ],
      "execution_count": null,
      "outputs": []
    },
    {
      "cell_type": "code",
      "metadata": {
        "id": "lDGJcLlwQA03"
      },
      "source": [
        "df3 = pd.read_csv('/content/all-data.csv',encoding='latin-1')"
      ],
      "execution_count": null,
      "outputs": []
    },
    {
      "cell_type": "code",
      "metadata": {
        "id": "J8V_cma0QUPB"
      },
      "source": [
        "df3"
      ],
      "execution_count": null,
      "outputs": []
    },
    {
      "cell_type": "code",
      "metadata": {
        "id": "_64FpYBzQYZk"
      },
      "source": [
        "df3 = df3[['text', 'label']]"
      ],
      "execution_count": null,
      "outputs": []
    },
    {
      "cell_type": "code",
      "metadata": {
        "id": "vwddeJf5QsOj"
      },
      "source": [
        "df1 = df1[['title', 'sentiment']]"
      ],
      "execution_count": null,
      "outputs": []
    },
    {
      "cell_type": "code",
      "metadata": {
        "id": "Y4euGwH1Q1m7"
      },
      "source": [
        "df2.columns"
      ],
      "execution_count": null,
      "outputs": []
    },
    {
      "cell_type": "code",
      "metadata": {
        "id": "P24wUHEsQ_8R"
      },
      "source": [
        "df2 = df2[['|__sentence', '|__info__sentiment_score']]"
      ],
      "execution_count": null,
      "outputs": []
    },
    {
      "cell_type": "code",
      "metadata": {
        "id": "rfxQ2XFgS_2K"
      },
      "source": [
        "df2 = df2.set_axis(['title', 'sentiment'], axis=1, inplace=False)"
      ],
      "execution_count": null,
      "outputs": []
    },
    {
      "cell_type": "code",
      "metadata": {
        "id": "v4OT8hMuTY_3"
      },
      "source": [
        "df3 = df3.set_axis(['title', 'sentiment'], axis=1, inplace=False)"
      ],
      "execution_count": null,
      "outputs": []
    },
    {
      "cell_type": "code",
      "metadata": {
        "id": "keIAd7MrRVz_"
      },
      "source": [
        "df4 = pd.concat([df1.reset_index(drop=True), df2.reset_index(drop=True)])"
      ],
      "execution_count": null,
      "outputs": []
    },
    {
      "cell_type": "code",
      "metadata": {
        "id": "A7GoBPF9SLeP"
      },
      "source": [
        "df4"
      ],
      "execution_count": null,
      "outputs": []
    },
    {
      "cell_type": "code",
      "metadata": {
        "id": "nk8qTVieUUJq"
      },
      "source": [
        "conditions = [\n",
        "    (df4['sentiment'] >= 0.05),\n",
        "    (df4['sentiment'] > -0.05) & (df4['sentiment'] < 0.05),\n",
        "    (df4['sentiment'] <= -0.05)\n",
        "    ]\n",
        "\n",
        "values = ['positive', 'neutral', 'negative']"
      ],
      "execution_count": null,
      "outputs": []
    },
    {
      "cell_type": "code",
      "metadata": {
        "id": "H4IbVNU-Uj1X"
      },
      "source": [
        "import numpy as np\n",
        "\n",
        "df4['sentiment'] = np.select(conditions, values)"
      ],
      "execution_count": null,
      "outputs": []
    },
    {
      "cell_type": "code",
      "metadata": {
        "id": "3wHhuxMQUr93"
      },
      "source": [
        "df4['sentiment'].value_counts()"
      ],
      "execution_count": null,
      "outputs": []
    },
    {
      "cell_type": "code",
      "metadata": {
        "id": "5eAS6kXbU2sv"
      },
      "source": [
        "result_df = pd.concat([df3.reset_index(drop=True), df4.reset_index(drop=True)])"
      ],
      "execution_count": null,
      "outputs": []
    },
    {
      "cell_type": "code",
      "metadata": {
        "id": "MVsHIQtbU_HP"
      },
      "source": [
        "result_df"
      ],
      "execution_count": null,
      "outputs": []
    },
    {
      "cell_type": "code",
      "metadata": {
        "id": "vCNg3SZwVEto"
      },
      "source": [
        "result_df.reset_index(drop=True)"
      ],
      "execution_count": null,
      "outputs": []
    },
    {
      "cell_type": "code",
      "metadata": {
        "id": "zIO6kFPRVNt0"
      },
      "source": [
        "result_df['sentiment'].value_counts()"
      ],
      "execution_count": null,
      "outputs": []
    },
    {
      "cell_type": "code",
      "metadata": {
        "id": "9Qrh3AR6VtOR"
      },
      "source": [
        "result_df = result_df.drop_duplicates(subset=['title'])"
      ],
      "execution_count": null,
      "outputs": []
    },
    {
      "cell_type": "code",
      "metadata": {
        "id": "U-XcgLC6Vbq4"
      },
      "source": [
        "result_df.to_csv('title-sentiment.csv')"
      ],
      "execution_count": null,
      "outputs": []
    }
  ]
}