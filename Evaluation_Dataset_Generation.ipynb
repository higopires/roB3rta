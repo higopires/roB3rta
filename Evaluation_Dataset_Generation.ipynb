{
 "cells": [
  {
   "cell_type": "code",
   "execution_count": null,
   "metadata": {
    "id": "XHLLvhV-PlbI"
   },
   "outputs": [],
   "source": [
    "import pandas as pd"
   ]
  },
  {
   "cell_type": "code",
   "execution_count": null,
   "metadata": {
    "id": "2URjAGcHPoO1"
   },
   "outputs": [],
   "source": [
    "df1 = pd.read_csv('/content/SemEval 2017 Task 5 - Subtask 2.csv')"
   ]
  },
  {
   "cell_type": "code",
   "execution_count": null,
   "metadata": {
    "id": "4-W6R1ocP1Bu"
   },
   "outputs": [],
   "source": [
    "df2 = pd.read_csv('/content/fiqadataset.csv')"
   ]
  },
  {
   "cell_type": "code",
   "execution_count": null,
   "metadata": {
    "id": "lDGJcLlwQA03"
   },
   "outputs": [],
   "source": [
    "df3 = pd.read_csv('/content/all-data.csv',encoding='latin-1') #dataset FinancialPhraseBank"
   ]
  },
  {
   "cell_type": "code",
   "execution_count": null,
   "metadata": {
    "id": "_64FpYBzQYZk"
   },
   "outputs": [],
   "source": [
    "df3 = df3[['text', 'label']] #Definição das colunas do dataset"
   ]
  },
  {
   "cell_type": "code",
   "execution_count": null,
   "metadata": {
    "id": "vwddeJf5QsOj"
   },
   "outputs": [],
   "source": [
    "df1 = df1[['title', 'sentiment']] #Definição das colunas do dataset"
   ]
  },
  {
   "cell_type": "code",
   "execution_count": null,
   "metadata": {
    "id": "P24wUHEsQ_8R"
   },
   "outputs": [],
   "source": [
    "df2 = df2[['|__sentence', '|__info__sentiment_score']]#Definição das colunas do dataset"
   ]
  },
  {
   "cell_type": "markdown",
   "metadata": {},
   "source": [
    "Para que as colunas sejam mescladas, é necessário que elas possuam os mesmos nomes de colunas:"
   ]
  },
  {
   "cell_type": "code",
   "execution_count": null,
   "metadata": {
    "id": "rfxQ2XFgS_2K"
   },
   "outputs": [],
   "source": [
    "df2 = df2.set_axis(['title', 'sentiment'], axis=1, inplace=False)"
   ]
  },
  {
   "cell_type": "code",
   "execution_count": null,
   "metadata": {
    "id": "v4OT8hMuTY_3"
   },
   "outputs": [],
   "source": [
    "df3 = df3.set_axis(['title', 'sentiment'], axis=1, inplace=False)"
   ]
  },
  {
   "cell_type": "markdown",
   "metadata": {},
   "source": [
    "Geração de um novo dataset, composto pelo dataset FiQA e pelo SemEval 2017:"
   ]
  },
  {
   "cell_type": "code",
   "execution_count": null,
   "metadata": {
    "id": "keIAd7MrRVz_"
   },
   "outputs": [],
   "source": [
    "df4 = pd.concat([df1.reset_index(drop=True), df2.reset_index(drop=True)])"
   ]
  },
  {
   "cell_type": "markdown",
   "metadata": {},
   "source": [
    "Troca dos valores categóricos por valores contínuos, obedecendo regras constantes na literatura:"
   ]
  },
  {
   "cell_type": "code",
   "execution_count": null,
   "metadata": {
    "id": "nk8qTVieUUJq"
   },
   "outputs": [],
   "source": [
    "conditions = [\n",
    "    (df4['sentiment'] >= 0.05),\n",
    "    (df4['sentiment'] > -0.05) & (df4['sentiment'] < 0.05),\n",
    "    (df4['sentiment'] <= -0.05)\n",
    "    ]\n",
    "\n",
    "values = ['positive', 'neutral', 'negative']"
   ]
  },
  {
   "cell_type": "code",
   "execution_count": null,
   "metadata": {
    "id": "H4IbVNU-Uj1X"
   },
   "outputs": [],
   "source": [
    "import numpy as np\n",
    "\n",
    "df4['sentiment'] = np.select(conditions, values)"
   ]
  },
  {
   "cell_type": "code",
   "execution_count": null,
   "metadata": {
    "id": "3wHhuxMQUr93"
   },
   "outputs": [],
   "source": [
    "df4['sentiment'].value_counts()"
   ]
  },
  {
   "cell_type": "markdown",
   "metadata": {},
   "source": [
    "Com os valores contínuos já obtidos, mesclamos o novo dataset com o FinancialPhraseBank:"
   ]
  },
  {
   "cell_type": "code",
   "execution_count": null,
   "metadata": {
    "id": "5eAS6kXbU2sv"
   },
   "outputs": [],
   "source": [
    "result_df = pd.concat([df3.reset_index(drop=True), df4.reset_index(drop=True)])"
   ]
  },
  {
   "cell_type": "code",
   "execution_count": null,
   "metadata": {
    "id": "MVsHIQtbU_HP"
   },
   "outputs": [],
   "source": [
    "result_df"
   ]
  },
  {
   "cell_type": "code",
   "execution_count": null,
   "metadata": {
    "id": "vCNg3SZwVEto"
   },
   "outputs": [],
   "source": [
    "result_df.reset_index(drop=True)"
   ]
  },
  {
   "cell_type": "code",
   "execution_count": null,
   "metadata": {
    "id": "zIO6kFPRVNt0"
   },
   "outputs": [],
   "source": [
    "result_df['sentiment'].value_counts()"
   ]
  },
  {
   "cell_type": "markdown",
   "metadata": {},
   "source": [
    "Eliminação das duplicatas:"
   ]
  },
  {
   "cell_type": "code",
   "execution_count": null,
   "metadata": {
    "id": "9Qrh3AR6VtOR"
   },
   "outputs": [],
   "source": [
    "result_df = result_df.drop_duplicates(subset=['title'])"
   ]
  },
  {
   "cell_type": "code",
   "execution_count": null,
   "metadata": {
    "id": "U-XcgLC6Vbq4"
   },
   "outputs": [],
   "source": [
    "result_df.to_csv('title-sentiment.csv')"
   ]
  }
 ],
 "metadata": {
  "colab": {
   "name": "Paper Dataset Generation.ipynb",
   "provenance": []
  },
  "kernelspec": {
   "display_name": "Python 3",
   "language": "python",
   "name": "python3"
  },
  "language_info": {
   "codemirror_mode": {
    "name": "ipython",
    "version": 3
   },
   "file_extension": ".py",
   "mimetype": "text/x-python",
   "name": "python",
   "nbconvert_exporter": "python",
   "pygments_lexer": "ipython3",
   "version": "3.6.12"
  }
 },
 "nbformat": 4,
 "nbformat_minor": 1
}
